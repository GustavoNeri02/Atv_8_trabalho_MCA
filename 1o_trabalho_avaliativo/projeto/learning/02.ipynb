{
 "cells": [
  {
   "cell_type": "markdown",
   "metadata": {},
   "source": [
    "# Tabula\n",
    "https://medium.com/codestorm/how-to-read-and-scrape-data-from-pdf-file-using-python-2f2a2fe73ae7\n",
    "https://nbviewer.org/github/chezou/tabula-py/blob/master/examples/tabula_example.ipynb"
   ]
  },
  {
   "cell_type": "code",
   "execution_count": 3,
   "metadata": {},
   "outputs": [],
   "source": [
    "import tabula as tb\n",
    "import pandas as pd\n",
    "import numpy as np"
   ]
  },
  {
   "cell_type": "code",
   "execution_count": 4,
   "metadata": {},
   "outputs": [],
   "source": [
    "file='https://population.un.org/wpp/Publications/Files/WPP2019_Highlights.pdf'\n",
    "data = tb.read_pdf(file, pages='12')"
   ]
  },
  {
   "cell_type": "code",
   "execution_count": 5,
   "metadata": {},
   "outputs": [
    {
     "name": "stdout",
     "output_type": "stream",
     "text": [
      "[                          Unnamed: 0 Population (millions) Unnamed: 1  \\\n",
      "0                             Region                  2019       2030   \n",
      "1                              World                 7 713      8 548   \n",
      "2                 Sub-Saharan Africa                 1 066      1 400   \n",
      "3   Northern Africa and Western Asia                   517        609   \n",
      "4          Central and Southern Asia                 1 991      2 227   \n",
      "5     Eastern and South-Eastern Asia                 2 335      2 427   \n",
      "6    Latin America and the Caribbean                   648        706   \n",
      "7              Australia/New Zealand                    30         33   \n",
      "8                           Oceania*                    12         15   \n",
      "9        Europe and Northern America                 1 114      1 132   \n",
      "10                               NaN                   NaN        NaN   \n",
      "11         Least developed countries                 1 033      1 314   \n",
      "12  Land-locked Developing Countries                   521        659   \n",
      "13    Small Island Developing States                    71         78   \n",
      "\n",
      "   Unnamed: 2 Unnamed: 3  \n",
      "0        2050       2100  \n",
      "1       9 735     10 875  \n",
      "2       2 118      3 775  \n",
      "3         754        924  \n",
      "4       2 496      2 334  \n",
      "5       2 411      1 967  \n",
      "6         762        680  \n",
      "7          38         49  \n",
      "8          19         26  \n",
      "9       1 136      1 120  \n",
      "10        NaN        NaN  \n",
      "11      1 877      3 047  \n",
      "12        926      1 406  \n",
      "13         87         88  ]\n"
     ]
    }
   ],
   "source": [
    "type(data)\n",
    "print(data)"
   ]
  },
  {
   "cell_type": "code",
   "execution_count": 6,
   "metadata": {},
   "outputs": [],
   "source": [
    "df = pd.DataFrame(np.concatenate(data))"
   ]
  },
  {
   "cell_type": "code",
   "execution_count": 7,
   "metadata": {},
   "outputs": [
    {
     "data": {
      "text/html": [
       "<div>\n",
       "<style scoped>\n",
       "    .dataframe tbody tr th:only-of-type {\n",
       "        vertical-align: middle;\n",
       "    }\n",
       "\n",
       "    .dataframe tbody tr th {\n",
       "        vertical-align: top;\n",
       "    }\n",
       "\n",
       "    .dataframe thead th {\n",
       "        text-align: right;\n",
       "    }\n",
       "</style>\n",
       "<table border=\"1\" class=\"dataframe\">\n",
       "  <thead>\n",
       "    <tr style=\"text-align: right;\">\n",
       "      <th></th>\n",
       "      <th>0</th>\n",
       "      <th>1</th>\n",
       "      <th>2</th>\n",
       "      <th>3</th>\n",
       "      <th>4</th>\n",
       "    </tr>\n",
       "  </thead>\n",
       "  <tbody>\n",
       "    <tr>\n",
       "      <th>0</th>\n",
       "      <td>Region</td>\n",
       "      <td>2019</td>\n",
       "      <td>2030</td>\n",
       "      <td>2050</td>\n",
       "      <td>2100</td>\n",
       "    </tr>\n",
       "    <tr>\n",
       "      <th>1</th>\n",
       "      <td>World</td>\n",
       "      <td>7 713</td>\n",
       "      <td>8 548</td>\n",
       "      <td>9 735</td>\n",
       "      <td>10 875</td>\n",
       "    </tr>\n",
       "    <tr>\n",
       "      <th>2</th>\n",
       "      <td>Sub-Saharan Africa</td>\n",
       "      <td>1 066</td>\n",
       "      <td>1 400</td>\n",
       "      <td>2 118</td>\n",
       "      <td>3 775</td>\n",
       "    </tr>\n",
       "    <tr>\n",
       "      <th>3</th>\n",
       "      <td>Northern Africa and Western Asia</td>\n",
       "      <td>517</td>\n",
       "      <td>609</td>\n",
       "      <td>754</td>\n",
       "      <td>924</td>\n",
       "    </tr>\n",
       "    <tr>\n",
       "      <th>4</th>\n",
       "      <td>Central and Southern Asia</td>\n",
       "      <td>1 991</td>\n",
       "      <td>2 227</td>\n",
       "      <td>2 496</td>\n",
       "      <td>2 334</td>\n",
       "    </tr>\n",
       "    <tr>\n",
       "      <th>5</th>\n",
       "      <td>Eastern and South-Eastern Asia</td>\n",
       "      <td>2 335</td>\n",
       "      <td>2 427</td>\n",
       "      <td>2 411</td>\n",
       "      <td>1 967</td>\n",
       "    </tr>\n",
       "    <tr>\n",
       "      <th>6</th>\n",
       "      <td>Latin America and the Caribbean</td>\n",
       "      <td>648</td>\n",
       "      <td>706</td>\n",
       "      <td>762</td>\n",
       "      <td>680</td>\n",
       "    </tr>\n",
       "    <tr>\n",
       "      <th>7</th>\n",
       "      <td>Australia/New Zealand</td>\n",
       "      <td>30</td>\n",
       "      <td>33</td>\n",
       "      <td>38</td>\n",
       "      <td>49</td>\n",
       "    </tr>\n",
       "    <tr>\n",
       "      <th>8</th>\n",
       "      <td>Oceania*</td>\n",
       "      <td>12</td>\n",
       "      <td>15</td>\n",
       "      <td>19</td>\n",
       "      <td>26</td>\n",
       "    </tr>\n",
       "    <tr>\n",
       "      <th>9</th>\n",
       "      <td>Europe and Northern America</td>\n",
       "      <td>1 114</td>\n",
       "      <td>1 132</td>\n",
       "      <td>1 136</td>\n",
       "      <td>1 120</td>\n",
       "    </tr>\n",
       "    <tr>\n",
       "      <th>10</th>\n",
       "      <td>NaN</td>\n",
       "      <td>NaN</td>\n",
       "      <td>NaN</td>\n",
       "      <td>NaN</td>\n",
       "      <td>NaN</td>\n",
       "    </tr>\n",
       "    <tr>\n",
       "      <th>11</th>\n",
       "      <td>Least developed countries</td>\n",
       "      <td>1 033</td>\n",
       "      <td>1 314</td>\n",
       "      <td>1 877</td>\n",
       "      <td>3 047</td>\n",
       "    </tr>\n",
       "    <tr>\n",
       "      <th>12</th>\n",
       "      <td>Land-locked Developing Countries</td>\n",
       "      <td>521</td>\n",
       "      <td>659</td>\n",
       "      <td>926</td>\n",
       "      <td>1 406</td>\n",
       "    </tr>\n",
       "  </tbody>\n",
       "</table>\n",
       "</div>"
      ],
      "text/plain": [
       "                                   0      1      2      3       4\n",
       "0                             Region   2019   2030   2050    2100\n",
       "1                              World  7 713  8 548  9 735  10 875\n",
       "2                 Sub-Saharan Africa  1 066  1 400  2 118   3 775\n",
       "3   Northern Africa and Western Asia    517    609    754     924\n",
       "4          Central and Southern Asia  1 991  2 227  2 496   2 334\n",
       "5     Eastern and South-Eastern Asia  2 335  2 427  2 411   1 967\n",
       "6    Latin America and the Caribbean    648    706    762     680\n",
       "7              Australia/New Zealand     30     33     38      49\n",
       "8                           Oceania*     12     15     19      26\n",
       "9        Europe and Northern America  1 114  1 132  1 136   1 120\n",
       "10                               NaN    NaN    NaN    NaN     NaN\n",
       "11         Least developed countries  1 033  1 314  1 877   3 047\n",
       "12  Land-locked Developing Countries    521    659    926   1 406"
      ]
     },
     "execution_count": 7,
     "metadata": {},
     "output_type": "execute_result"
    }
   ],
   "source": [
    "df.head(-1)"
   ]
  },
  {
   "cell_type": "code",
   "execution_count": 24,
   "metadata": {},
   "outputs": [
    {
     "data": {
      "text/html": [
       "<div>\n",
       "<style scoped>\n",
       "    .dataframe tbody tr th:only-of-type {\n",
       "        vertical-align: middle;\n",
       "    }\n",
       "\n",
       "    .dataframe tbody tr th {\n",
       "        vertical-align: top;\n",
       "    }\n",
       "\n",
       "    .dataframe thead th {\n",
       "        text-align: right;\n",
       "    }\n",
       "</style>\n",
       "<table border=\"1\" class=\"dataframe\">\n",
       "  <thead>\n",
       "    <tr style=\"text-align: right;\">\n",
       "      <th></th>\n",
       "      <th>0</th>\n",
       "      <th>1</th>\n",
       "      <th>2</th>\n",
       "      <th>3</th>\n",
       "      <th>4</th>\n",
       "    </tr>\n",
       "  </thead>\n",
       "  <tbody>\n",
       "    <tr>\n",
       "      <th>0</th>\n",
       "      <td>Region</td>\n",
       "      <td>2019</td>\n",
       "      <td>2030</td>\n",
       "      <td>2050</td>\n",
       "      <td>2100</td>\n",
       "    </tr>\n",
       "    <tr>\n",
       "      <th>1</th>\n",
       "      <td>World</td>\n",
       "      <td>7 713</td>\n",
       "      <td>8 548</td>\n",
       "      <td>9 735</td>\n",
       "      <td>10 875</td>\n",
       "    </tr>\n",
       "    <tr>\n",
       "      <th>2</th>\n",
       "      <td>Sub-Saharan Africa</td>\n",
       "      <td>1 066</td>\n",
       "      <td>1 400</td>\n",
       "      <td>2 118</td>\n",
       "      <td>3 775</td>\n",
       "    </tr>\n",
       "    <tr>\n",
       "      <th>3</th>\n",
       "      <td>Northern Africa and Western Asia</td>\n",
       "      <td>517</td>\n",
       "      <td>609</td>\n",
       "      <td>754</td>\n",
       "      <td>924</td>\n",
       "    </tr>\n",
       "    <tr>\n",
       "      <th>4</th>\n",
       "      <td>Central and Southern Asia</td>\n",
       "      <td>1 991</td>\n",
       "      <td>2 227</td>\n",
       "      <td>2 496</td>\n",
       "      <td>2 334</td>\n",
       "    </tr>\n",
       "  </tbody>\n",
       "</table>\n",
       "</div>"
      ],
      "text/plain": [
       "                                  0      1      2      3       4\n",
       "0                            Region   2019   2030   2050    2100\n",
       "1                             World  7 713  8 548  9 735  10 875\n",
       "2                Sub-Saharan Africa  1 066  1 400  2 118   3 775\n",
       "3  Northern Africa and Western Asia    517    609    754     924\n",
       "4         Central and Southern Asia  1 991  2 227  2 496   2 334"
      ]
     },
     "execution_count": 24,
     "metadata": {},
     "output_type": "execute_result"
    }
   ],
   "source": [
    "df.dropna(inplace=True)\n",
    "df.head()"
   ]
  },
  {
   "cell_type": "code",
   "execution_count": 25,
   "metadata": {},
   "outputs": [
    {
     "data": {
      "text/html": [
       "<div>\n",
       "<style scoped>\n",
       "    .dataframe tbody tr th:only-of-type {\n",
       "        vertical-align: middle;\n",
       "    }\n",
       "\n",
       "    .dataframe tbody tr th {\n",
       "        vertical-align: top;\n",
       "    }\n",
       "\n",
       "    .dataframe thead th {\n",
       "        text-align: right;\n",
       "    }\n",
       "</style>\n",
       "<table border=\"1\" class=\"dataframe\">\n",
       "  <thead>\n",
       "    <tr style=\"text-align: right;\">\n",
       "      <th></th>\n",
       "      <th>Region</th>\n",
       "      <th>2019</th>\n",
       "      <th>2030</th>\n",
       "      <th>2050</th>\n",
       "      <th>2100</th>\n",
       "    </tr>\n",
       "  </thead>\n",
       "  <tbody>\n",
       "    <tr>\n",
       "      <th>0</th>\n",
       "      <td>Region</td>\n",
       "      <td>2019</td>\n",
       "      <td>2030</td>\n",
       "      <td>2050</td>\n",
       "      <td>2100</td>\n",
       "    </tr>\n",
       "    <tr>\n",
       "      <th>1</th>\n",
       "      <td>World</td>\n",
       "      <td>7 713</td>\n",
       "      <td>8 548</td>\n",
       "      <td>9 735</td>\n",
       "      <td>10 875</td>\n",
       "    </tr>\n",
       "    <tr>\n",
       "      <th>2</th>\n",
       "      <td>Sub-Saharan Africa</td>\n",
       "      <td>1 066</td>\n",
       "      <td>1 400</td>\n",
       "      <td>2 118</td>\n",
       "      <td>3 775</td>\n",
       "    </tr>\n",
       "    <tr>\n",
       "      <th>3</th>\n",
       "      <td>Northern Africa and Western Asia</td>\n",
       "      <td>517</td>\n",
       "      <td>609</td>\n",
       "      <td>754</td>\n",
       "      <td>924</td>\n",
       "    </tr>\n",
       "    <tr>\n",
       "      <th>4</th>\n",
       "      <td>Central and Southern Asia</td>\n",
       "      <td>1 991</td>\n",
       "      <td>2 227</td>\n",
       "      <td>2 496</td>\n",
       "      <td>2 334</td>\n",
       "    </tr>\n",
       "  </tbody>\n",
       "</table>\n",
       "</div>"
      ],
      "text/plain": [
       "0                            Region   2019   2030   2050    2100\n",
       "0                            Region   2019   2030   2050    2100\n",
       "1                             World  7 713  8 548  9 735  10 875\n",
       "2                Sub-Saharan Africa  1 066  1 400  2 118   3 775\n",
       "3  Northern Africa and Western Asia    517    609    754     924\n",
       "4         Central and Southern Asia  1 991  2 227  2 496   2 334"
      ]
     },
     "execution_count": 25,
     "metadata": {},
     "output_type": "execute_result"
    }
   ],
   "source": [
    "df.columns = df.iloc[0]\n",
    "df.head()"
   ]
  },
  {
   "cell_type": "code",
   "execution_count": 8,
   "metadata": {},
   "outputs": [
    {
     "data": {
      "text/html": [
       "<div>\n",
       "<style scoped>\n",
       "    .dataframe tbody tr th:only-of-type {\n",
       "        vertical-align: middle;\n",
       "    }\n",
       "\n",
       "    .dataframe tbody tr th {\n",
       "        vertical-align: top;\n",
       "    }\n",
       "\n",
       "    .dataframe thead th {\n",
       "        text-align: right;\n",
       "    }\n",
       "</style>\n",
       "<table border=\"1\" class=\"dataframe\">\n",
       "  <thead>\n",
       "    <tr style=\"text-align: right;\">\n",
       "      <th></th>\n",
       "      <th>0</th>\n",
       "      <th>1</th>\n",
       "      <th>2</th>\n",
       "      <th>3</th>\n",
       "      <th>4</th>\n",
       "    </tr>\n",
       "  </thead>\n",
       "  <tbody>\n",
       "    <tr>\n",
       "      <th>0</th>\n",
       "      <td>World</td>\n",
       "      <td>7 713</td>\n",
       "      <td>8 548</td>\n",
       "      <td>9 735</td>\n",
       "      <td>10 875</td>\n",
       "    </tr>\n",
       "    <tr>\n",
       "      <th>1</th>\n",
       "      <td>Sub-Saharan Africa</td>\n",
       "      <td>1 066</td>\n",
       "      <td>1 400</td>\n",
       "      <td>2 118</td>\n",
       "      <td>3 775</td>\n",
       "    </tr>\n",
       "    <tr>\n",
       "      <th>2</th>\n",
       "      <td>Northern Africa and Western Asia</td>\n",
       "      <td>517</td>\n",
       "      <td>609</td>\n",
       "      <td>754</td>\n",
       "      <td>924</td>\n",
       "    </tr>\n",
       "    <tr>\n",
       "      <th>3</th>\n",
       "      <td>Central and Southern Asia</td>\n",
       "      <td>1 991</td>\n",
       "      <td>2 227</td>\n",
       "      <td>2 496</td>\n",
       "      <td>2 334</td>\n",
       "    </tr>\n",
       "    <tr>\n",
       "      <th>4</th>\n",
       "      <td>Eastern and South-Eastern Asia</td>\n",
       "      <td>2 335</td>\n",
       "      <td>2 427</td>\n",
       "      <td>2 411</td>\n",
       "      <td>1 967</td>\n",
       "    </tr>\n",
       "  </tbody>\n",
       "</table>\n",
       "</div>"
      ],
      "text/plain": [
       "                                  0      1      2      3       4\n",
       "0                             World  7 713  8 548  9 735  10 875\n",
       "1                Sub-Saharan Africa  1 066  1 400  2 118   3 775\n",
       "2  Northern Africa and Western Asia    517    609    754     924\n",
       "3         Central and Southern Asia  1 991  2 227  2 496   2 334\n",
       "4    Eastern and South-Eastern Asia  2 335  2 427  2 411   1 967"
      ]
     },
     "execution_count": 8,
     "metadata": {},
     "output_type": "execute_result"
    }
   ],
   "source": [
    " # drop linha do indice 0, que corresponde com cabecalho de colunas\n",
    "df = df.drop(0)\n",
    "df = df.reset_index(drop=True)\n",
    "\n",
    "df.head()"
   ]
  },
  {
   "cell_type": "code",
   "execution_count": 57,
   "metadata": {},
   "outputs": [
    {
     "name": "stderr",
     "output_type": "stream",
     "text": [
      "'pages' argument isn't specified.Will extract only from page 1 by default.\n"
     ]
    }
   ],
   "source": [
    "pdf_path = \"https://github.com/chezou/tabula-py/raw/master/tests/resources/data.pdf\"\n",
    "dfs = tb.read_pdf(pdf_path, stream=True)\n"
   ]
  },
  {
   "cell_type": "code",
   "execution_count": 58,
   "metadata": {},
   "outputs": [
    {
     "data": {
      "text/plain": [
       "[     mpg  cyl   disp   hp  drat     wt   qsec  vs  am  gear\n",
       " 0   21.0    6  160.0  110  3.90  2.620  16.46   0   1     4\n",
       " 1   21.0    6  160.0  110  3.90  2.875  17.02   0   1     4\n",
       " 2   22.8    4  108.0   93  3.85  2.320  18.61   1   1     4\n",
       " 3   21.4    6  258.0  110  3.08  3.215  19.44   1   0     3\n",
       " 4   18.7    8  360.0  175  3.15  3.440  17.02   0   0     3\n",
       " 5   18.1    6  225.0  105  2.76  3.460  20.22   1   0     3\n",
       " 6   14.3    8  360.0  245  3.21  3.570  15.84   0   0     3\n",
       " 7   24.4    4  146.7   62  3.69  3.190  20.00   1   0     4\n",
       " 8   22.8    4  140.8   95  3.92  3.150  22.90   1   0     4\n",
       " 9   19.2    6  167.6  123  3.92  3.440  18.30   1   0     4\n",
       " 10  17.8    6  167.6  123  3.92  3.440  18.90   1   0     4\n",
       " 11  16.4    8  275.8  180  3.07  4.070  17.40   0   0     3\n",
       " 12  17.3    8  275.8  180  3.07  3.730  17.60   0   0     3\n",
       " 13  15.2    8  275.8  180  3.07  3.780  18.00   0   0     3\n",
       " 14  10.4    8  472.0  205  2.93  5.250  17.98   0   0     3\n",
       " 15  10.4    8  460.0  215  3.00  5.424  17.82   0   0     3\n",
       " 16  14.7    8  440.0  230  3.23  5.345  17.42   0   0     3\n",
       " 17  32.4    4   78.7   66  4.08  2.200  19.47   1   1     4\n",
       " 18  30.4    4   75.7   52  4.93  1.615  18.52   1   1     4\n",
       " 19  33.9    4   71.1   65  4.22  1.835  19.90   1   1     4\n",
       " 20  21.5    4  120.1   97  3.70  2.465  20.01   1   0     3\n",
       " 21  15.5    8  318.0  150  2.76  3.520  16.87   0   0     3\n",
       " 22  15.2    8  304.0  150  3.15  3.435  17.30   0   0     3\n",
       " 23  13.3    8  350.0  245  3.73  3.840  15.41   0   0     3\n",
       " 24  19.2    8  400.0  175  3.08  3.845  17.05   0   0     3\n",
       " 25  27.3    4   79.0   66  4.08  1.935  18.90   1   1     4\n",
       " 26  26.0    4  120.3   91  4.43  2.140  16.70   0   1     5\n",
       " 27  30.4    4   95.1  113  3.77  1.513  16.90   1   1     5\n",
       " 28  15.8    8  351.0  264  4.22  3.170  14.50   0   1     5\n",
       " 29  19.7    6  145.0  175  3.62  2.770  15.50   0   1     5\n",
       " 30  15.0    8  301.0  335  3.54  3.570  14.60   0   1     5]"
      ]
     },
     "execution_count": 58,
     "metadata": {},
     "output_type": "execute_result"
    }
   ],
   "source": [
    "dfs"
   ]
  },
  {
   "cell_type": "code",
   "execution_count": 27,
   "metadata": {},
   "outputs": [],
   "source": [
    "df = pd.DataFrame(np.concatenate(dfs))"
   ]
  },
  {
   "cell_type": "code",
   "execution_count": 28,
   "metadata": {},
   "outputs": [
    {
     "data": {
      "text/plain": [
       "<bound method NDFrame.head of                      0     1  2      3    4     5      6      7  8  9  10 11\n",
       "0             Mazda RX4  21.0  6  160.0  110   3.9   2.62  16.46  0  1  4  4\n",
       "1         Mazda RX4 Wag  21.0  6  160.0  110   3.9  2.875  17.02  0  1  4  4\n",
       "2            Datsun 710  22.8  4  108.0   93  3.85   2.32  18.61  1  1  4  1\n",
       "3        Hornet 4 Drive  21.4  6  258.0  110  3.08  3.215  19.44  1  0  3  1\n",
       "4     Hornet Sportabout  18.7  8  360.0  175  3.15   3.44  17.02  0  0  3  2\n",
       "5               Valiant  18.1  6  225.0  105  2.76   3.46  20.22  1  0  3  1\n",
       "6            Duster 360  14.3  8  360.0  245  3.21   3.57  15.84  0  0  3  4\n",
       "7             Merc 240D  24.4  4  146.7   62  3.69   3.19   20.0  1  0  4  2\n",
       "8              Merc 230  22.8  4  140.8   95  3.92   3.15   22.9  1  0  4  2\n",
       "9              Merc 280  19.2  6  167.6  123  3.92   3.44   18.3  1  0  4  4\n",
       "10            Merc 280C  17.8  6  167.6  123  3.92   3.44   18.9  1  0  4  4\n",
       "11           Merc 450SE  16.4  8  275.8  180  3.07   4.07   17.4  0  0  3  3\n",
       "12           Merc 450SL  17.3  8  275.8  180  3.07   3.73   17.6  0  0  3  3\n",
       "13          Merc 450SLC  15.2  8  275.8  180  3.07   3.78   18.0  0  0  3  3\n",
       "14   Cadillac Fleetwood  10.4  8  472.0  205  2.93   5.25  17.98  0  0  3  4\n",
       "15  Lincoln Continental  10.4  8  460.0  215   3.0  5.424  17.82  0  0  3  4\n",
       "16    Chrysler Imperial  14.7  8  440.0  230  3.23  5.345  17.42  0  0  3  4\n",
       "17             Fiat 128  32.4  4   78.7   66  4.08    2.2  19.47  1  1  4  1\n",
       "18          Honda Civic  30.4  4   75.7   52  4.93  1.615  18.52  1  1  4  2\n",
       "19       Toyota Corolla  33.9  4   71.1   65  4.22  1.835   19.9  1  1  4  1\n",
       "20        Toyota Corona  21.5  4  120.1   97   3.7  2.465  20.01  1  0  3  1\n",
       "21     Dodge Challenger  15.5  8  318.0  150  2.76   3.52  16.87  0  0  3  2\n",
       "22          AMC Javelin  15.2  8  304.0  150  3.15  3.435   17.3  0  0  3  2\n",
       "23           Camaro Z28  13.3  8  350.0  245  3.73   3.84  15.41  0  0  3  4\n",
       "24     Pontiac Firebird  19.2  8  400.0  175  3.08  3.845  17.05  0  0  3  2\n",
       "25            Fiat X1-9  27.3  4   79.0   66  4.08  1.935   18.9  1  1  4  1\n",
       "26        Porsche 914-2  26.0  4  120.3   91  4.43   2.14   16.7  0  1  5  2\n",
       "27         Lotus Europa  30.4  4   95.1  113  3.77  1.513   16.9  1  1  5  2\n",
       "28       Ford Pantera L  15.8  8  351.0  264  4.22   3.17   14.5  0  1  5  4\n",
       "29         Ferrari Dino  19.7  6  145.0  175  3.62   2.77   15.5  0  1  5  6\n",
       "30        Maserati Bora  15.0  8  301.0  335  3.54   3.57   14.6  0  1  5  8\n",
       "31           Volvo 142E  21.4  4  121.0  109  4.11   2.78   18.6  1  1  4  2>"
      ]
     },
     "execution_count": 28,
     "metadata": {},
     "output_type": "execute_result"
    }
   ],
   "source": [
    "df.head"
   ]
  },
  {
   "cell_type": "code",
   "execution_count": 44,
   "metadata": {},
   "outputs": [
    {
     "data": {
      "text/plain": [
       "4"
      ]
     },
     "execution_count": 44,
     "metadata": {},
     "output_type": "execute_result"
    }
   ],
   "source": [
    "dfs = tb.read_pdf(pdf_path, pages=\"all\")\n",
    "len(dfs)"
   ]
  },
  {
   "cell_type": "code",
   "execution_count": 45,
   "metadata": {},
   "outputs": [
    {
     "data": {
      "text/plain": [
       "[     mpg  cyl   disp   hp  drat     wt   qsec  vs  am  gear\n",
       " 0   21.0    6  160.0  110  3.90  2.620  16.46   0   1     4\n",
       " 1   21.0    6  160.0  110  3.90  2.875  17.02   0   1     4\n",
       " 2   22.8    4  108.0   93  3.85  2.320  18.61   1   1     4\n",
       " 3   21.4    6  258.0  110  3.08  3.215  19.44   1   0     3\n",
       " 4   18.7    8  360.0  175  3.15  3.440  17.02   0   0     3\n",
       " 5   18.1    6  225.0  105  2.76  3.460  20.22   1   0     3\n",
       " 6   14.3    8  360.0  245  3.21  3.570  15.84   0   0     3\n",
       " 7   24.4    4  146.7   62  3.69  3.190  20.00   1   0     4\n",
       " 8   22.8    4  140.8   95  3.92  3.150  22.90   1   0     4\n",
       " 9   19.2    6  167.6  123  3.92  3.440  18.30   1   0     4\n",
       " 10  17.8    6  167.6  123  3.92  3.440  18.90   1   0     4\n",
       " 11  16.4    8  275.8  180  3.07  4.070  17.40   0   0     3\n",
       " 12  17.3    8  275.8  180  3.07  3.730  17.60   0   0     3\n",
       " 13  15.2    8  275.8  180  3.07  3.780  18.00   0   0     3\n",
       " 14  10.4    8  472.0  205  2.93  5.250  17.98   0   0     3\n",
       " 15  10.4    8  460.0  215  3.00  5.424  17.82   0   0     3\n",
       " 16  14.7    8  440.0  230  3.23  5.345  17.42   0   0     3\n",
       " 17  32.4    4   78.7   66  4.08  2.200  19.47   1   1     4\n",
       " 18  30.4    4   75.7   52  4.93  1.615  18.52   1   1     4\n",
       " 19  33.9    4   71.1   65  4.22  1.835  19.90   1   1     4\n",
       " 20  21.5    4  120.1   97  3.70  2.465  20.01   1   0     3\n",
       " 21  15.5    8  318.0  150  2.76  3.520  16.87   0   0     3\n",
       " 22  15.2    8  304.0  150  3.15  3.435  17.30   0   0     3\n",
       " 23  13.3    8  350.0  245  3.73  3.840  15.41   0   0     3\n",
       " 24  19.2    8  400.0  175  3.08  3.845  17.05   0   0     3\n",
       " 25  27.3    4   79.0   66  4.08  1.935  18.90   1   1     4\n",
       " 26  26.0    4  120.3   91  4.43  2.140  16.70   0   1     5\n",
       " 27  30.4    4   95.1  113  3.77  1.513  16.90   1   1     5\n",
       " 28  15.8    8  351.0  264  4.22  3.170  14.50   0   1     5\n",
       " 29  19.7    6  145.0  175  3.62  2.770  15.50   0   1     5\n",
       " 30  15.0    8  301.0  335  3.54  3.570  14.60   0   1     5,\n",
       "    Sepal.Length  Sepal.Width  Petal.Length  Petal.Width Species\n",
       " 0           5.1          3.5           1.4          0.2  setosa\n",
       " 1           4.9          3.0           1.4          0.2  setosa\n",
       " 2           4.7          3.2           1.3          0.2  setosa\n",
       " 3           4.6          3.1           1.5          0.2  setosa\n",
       " 4           5.0          3.6           1.4          0.2  setosa\n",
       " 5           5.4          3.9           1.7          0.4  setosa,\n",
       "    Unnamed: 0  Sepal.Length  Sepal.Width  Petal.Length  Petal.Width    Species\n",
       " 0         145           6.7          3.3           5.7          2.5  virginica\n",
       " 1         146           6.7          3.0           5.2          2.3  virginica\n",
       " 2         147           6.3          2.5           5.0          1.9  virginica\n",
       " 3         148           6.5          3.0           5.2          2.0  virginica\n",
       " 4         149           6.2          3.4           5.4          2.3  virginica\n",
       " 5         150           5.9          3.0           5.1          1.8  virginica,\n",
       "    supp\n",
       " 0    VC\n",
       " 1    VC\n",
       " 2    VC\n",
       " 3    VC\n",
       " 4    VC\n",
       " 5    VC\n",
       " 6    VC\n",
       " 7    VC\n",
       " 8    VC\n",
       " 9    VC\n",
       " 10   VC\n",
       " 11   VC\n",
       " 12   VC\n",
       " 13   VC]"
      ]
     },
     "execution_count": 45,
     "metadata": {},
     "output_type": "execute_result"
    }
   ],
   "source": [
    "dfs"
   ]
  },
  {
   "cell_type": "code",
   "execution_count": 47,
   "metadata": {},
   "outputs": [
    {
     "name": "stdout",
     "output_type": "stream",
     "text": [
      "31\n",
      "<class 'pandas.core.frame.DataFrame'>\n",
      "6\n",
      "<class 'pandas.core.frame.DataFrame'>\n",
      "6\n",
      "<class 'pandas.core.frame.DataFrame'>\n",
      "14\n",
      "<class 'pandas.core.frame.DataFrame'>\n"
     ]
    }
   ],
   "source": [
    "df = list()\n",
    "\n",
    "for iterador in dfs:\n",
    "    print(len(iterador))\n",
    "    print(type(iterador))\n",
    "    df.append(iterador)\n",
    "    #df.append(pd.DataFrame(np.concatenate(iterador)))"
   ]
  },
  {
   "cell_type": "code",
   "execution_count": 55,
   "metadata": {},
   "outputs": [
    {
     "data": {
      "text/html": [
       "<div>\n",
       "<style scoped>\n",
       "    .dataframe tbody tr th:only-of-type {\n",
       "        vertical-align: middle;\n",
       "    }\n",
       "\n",
       "    .dataframe tbody tr th {\n",
       "        vertical-align: top;\n",
       "    }\n",
       "\n",
       "    .dataframe thead th {\n",
       "        text-align: right;\n",
       "    }\n",
       "</style>\n",
       "<table border=\"1\" class=\"dataframe\">\n",
       "  <thead>\n",
       "    <tr style=\"text-align: right;\">\n",
       "      <th></th>\n",
       "      <th>supp</th>\n",
       "    </tr>\n",
       "  </thead>\n",
       "  <tbody>\n",
       "    <tr>\n",
       "      <th>0</th>\n",
       "      <td>VC</td>\n",
       "    </tr>\n",
       "    <tr>\n",
       "      <th>1</th>\n",
       "      <td>VC</td>\n",
       "    </tr>\n",
       "    <tr>\n",
       "      <th>2</th>\n",
       "      <td>VC</td>\n",
       "    </tr>\n",
       "    <tr>\n",
       "      <th>3</th>\n",
       "      <td>VC</td>\n",
       "    </tr>\n",
       "    <tr>\n",
       "      <th>4</th>\n",
       "      <td>VC</td>\n",
       "    </tr>\n",
       "  </tbody>\n",
       "</table>\n",
       "</div>"
      ],
      "text/plain": [
       "  supp\n",
       "0   VC\n",
       "1   VC\n",
       "2   VC\n",
       "3   VC\n",
       "4   VC"
      ]
     },
     "execution_count": 55,
     "metadata": {},
     "output_type": "execute_result"
    }
   ],
   "source": [
    "df[3].head()"
   ]
  },
  {
   "cell_type": "markdown",
   "metadata": {},
   "source": [
    "# Opção - PDF Plumber\n",
    "\n",
    "https://github.com/jsvine/pdfplumber"
   ]
  },
  {
   "cell_type": "markdown",
   "metadata": {},
   "source": [
    "# By My Own"
   ]
  },
  {
   "cell_type": "code",
   "execution_count": 56,
   "metadata": {},
   "outputs": [],
   "source": [
    "file =  'http://www.fapeg.go.gov.br/wp-content/uploads/2018/01/CP_01_2018_PARTICIPACAO.pdf'"
   ]
  },
  {
   "cell_type": "code",
   "execution_count": 59,
   "metadata": {},
   "outputs": [],
   "source": [
    "#data = tb.convert_into(file, 'edital_data.csv', output_format='csv', pages='all')\n",
    "data = tb.read_pdf(file, pages='all')"
   ]
  },
  {
   "cell_type": "code",
   "execution_count": 60,
   "metadata": {},
   "outputs": [
    {
     "name": "stdout",
     "output_type": "stream",
     "text": [
      "[                                          ATIVIDADES        DATA\n",
      "0  Lançamento do Edital na página eletrônica da F...  29/01/2018\n",
      "1  Disponibilização do formulário no sistema FAPE...  01/02/2018\n",
      "2                   Limite para impugnação do Edital  01/02/2018,                      Unnamed: 0                  Unnamed: 1  \\\n",
      "0             PERÍODO DO EVENTO                   INSCRIÇÃO   \n",
      "1                           NaN                         NaN   \n",
      "2       1 a 30 de abril de 2018                         NaN   \n",
      "3                             e      Até 5 de março de 2018   \n",
      "4        1 a 31 de maio de 2018                         NaN   \n",
      "5       1 a 30 de junho de 2018                         NaN   \n",
      "6                             e     Até 10 de abril de 2018   \n",
      "7       1 a 31 de julho de 2018                         NaN   \n",
      "8      1 a 31 de agosto de 2018      Até 10 de maio de 2018   \n",
      "9    1 a 30 de setembro de 2018     Até 11 de junho de 2018   \n",
      "10    1 a 31 de outubro de 2018     Até 10 de julho de 2018   \n",
      "11   1 a 30 de novembro de 2018    Até 10 de agosto de 2018   \n",
      "12   1 a 31 de dezembro de 2018  Até 10 de setembro de 2018   \n",
      "13    1 a 30 de janeiro de 2018   Até 10 de outubro de 2018   \n",
      "14  1 a 28 de fevereiro de 2018  Até 12 de novembro de 2018   \n",
      "15      1 a 31 de março de 2018  Até 10 de dezembro de 2018   \n",
      "\n",
      "         RESULTADO FINAL A  \n",
      "0                      NaN  \n",
      "1                PARTIR DE  \n",
      "2                      NaN  \n",
      "3      19 de março de 2018  \n",
      "4                      NaN  \n",
      "5                      NaN  \n",
      "6      30 de abril de 2018  \n",
      "7                      NaN  \n",
      "8       30 de maio de 2018  \n",
      "9      29 de junho de 2018  \n",
      "10     30 de julho de 2018  \n",
      "11    30 de agosto de 2018  \n",
      "12  28 de setembro de 2018  \n",
      "13   30 de outubro de 2018  \n",
      "14  30 de novembro de 2018  \n",
      "15  28 de dezembro de 2018  ,                                            CRITÉRIOS   NOTA\n",
      "0  I – Mérito e relevância científica do trabalho...  1 a 5\n",
      "1                          II – Produção científica;  1 a 5\n",
      "2  III - Impacto dos resultados do trabalho a ser...    NaN\n",
      "3                                                NaN  1 a 5\n",
      "4  desenvolvimento científico, tecnológico e de i...    NaN\n",
      "5  IV - Participação do proponente em programas d...    NaN\n",
      "6                                                NaN  1 a 5\n",
      "7                                      stricto sensu    NaN]\n"
     ]
    }
   ],
   "source": [
    "type(data)\n",
    "print(data)"
   ]
  },
  {
   "cell_type": "code",
   "execution_count": 69,
   "metadata": {},
   "outputs": [
    {
     "name": "stdout",
     "output_type": "stream",
     "text": [
      "3\n",
      "<class 'pandas.core.frame.DataFrame'>\n",
      "                                          ATIVIDADES        DATA\n",
      "0  Lançamento do Edital na página eletrônica da F...  29/01/2018\n",
      "1  Disponibilização do formulário no sistema FAPE...  01/02/2018\n",
      "2                   Limite para impugnação do Edital  01/02/2018\n",
      "16\n",
      "<class 'pandas.core.frame.DataFrame'>\n",
      "                     Unnamed: 0                  Unnamed: 1  \\\n",
      "0             PERÍODO DO EVENTO                   INSCRIÇÃO   \n",
      "1                           NaN                         NaN   \n",
      "2       1 a 30 de abril de 2018                         NaN   \n",
      "3                             e      Até 5 de março de 2018   \n",
      "4        1 a 31 de maio de 2018                         NaN   \n",
      "5       1 a 30 de junho de 2018                         NaN   \n",
      "6                             e     Até 10 de abril de 2018   \n",
      "7       1 a 31 de julho de 2018                         NaN   \n",
      "8      1 a 31 de agosto de 2018      Até 10 de maio de 2018   \n",
      "9    1 a 30 de setembro de 2018     Até 11 de junho de 2018   \n",
      "10    1 a 31 de outubro de 2018     Até 10 de julho de 2018   \n",
      "11   1 a 30 de novembro de 2018    Até 10 de agosto de 2018   \n",
      "12   1 a 31 de dezembro de 2018  Até 10 de setembro de 2018   \n",
      "13    1 a 30 de janeiro de 2018   Até 10 de outubro de 2018   \n",
      "14  1 a 28 de fevereiro de 2018  Até 12 de novembro de 2018   \n",
      "15      1 a 31 de março de 2018  Até 10 de dezembro de 2018   \n",
      "\n",
      "         RESULTADO FINAL A  \n",
      "0                      NaN  \n",
      "1                PARTIR DE  \n",
      "2                      NaN  \n",
      "3      19 de março de 2018  \n",
      "4                      NaN  \n",
      "5                      NaN  \n",
      "6      30 de abril de 2018  \n",
      "7                      NaN  \n",
      "8       30 de maio de 2018  \n",
      "9      29 de junho de 2018  \n",
      "10     30 de julho de 2018  \n",
      "11    30 de agosto de 2018  \n",
      "12  28 de setembro de 2018  \n",
      "13   30 de outubro de 2018  \n",
      "14  30 de novembro de 2018  \n",
      "15  28 de dezembro de 2018  \n",
      "8\n",
      "<class 'pandas.core.frame.DataFrame'>\n",
      "                                           CRITÉRIOS   NOTA\n",
      "0  I – Mérito e relevância científica do trabalho...  1 a 5\n",
      "1                          II – Produção científica;  1 a 5\n",
      "2  III - Impacto dos resultados do trabalho a ser...    NaN\n",
      "3                                                NaN  1 a 5\n",
      "4  desenvolvimento científico, tecnológico e de i...    NaN\n",
      "5  IV - Participação do proponente em programas d...    NaN\n",
      "6                                                NaN  1 a 5\n",
      "7                                      stricto sensu    NaN\n"
     ]
    }
   ],
   "source": [
    "df = list()\n",
    "\n",
    "for iterador in data:\n",
    "    print(len(iterador))\n",
    "    print(type(iterador))\n",
    "    print(iterador)\n",
    "    \n",
    "    df.append(iterador)"
   ]
  },
  {
   "cell_type": "code",
   "execution_count": 72,
   "metadata": {},
   "outputs": [
    {
     "data": {
      "text/html": [
       "<div>\n",
       "<style scoped>\n",
       "    .dataframe tbody tr th:only-of-type {\n",
       "        vertical-align: middle;\n",
       "    }\n",
       "\n",
       "    .dataframe tbody tr th {\n",
       "        vertical-align: top;\n",
       "    }\n",
       "\n",
       "    .dataframe thead th {\n",
       "        text-align: right;\n",
       "    }\n",
       "</style>\n",
       "<table border=\"1\" class=\"dataframe\">\n",
       "  <thead>\n",
       "    <tr style=\"text-align: right;\">\n",
       "      <th></th>\n",
       "      <th>ATIVIDADES</th>\n",
       "      <th>DATA</th>\n",
       "    </tr>\n",
       "  </thead>\n",
       "  <tbody>\n",
       "    <tr>\n",
       "      <th>0</th>\n",
       "      <td>Lançamento do Edital na página eletrônica da F...</td>\n",
       "      <td>29/01/2018</td>\n",
       "    </tr>\n",
       "    <tr>\n",
       "      <th>1</th>\n",
       "      <td>Disponibilização do formulário no sistema FAPE...</td>\n",
       "      <td>01/02/2018</td>\n",
       "    </tr>\n",
       "    <tr>\n",
       "      <th>2</th>\n",
       "      <td>Limite para impugnação do Edital</td>\n",
       "      <td>01/02/2018</td>\n",
       "    </tr>\n",
       "  </tbody>\n",
       "</table>\n",
       "</div>"
      ],
      "text/plain": [
       "                                          ATIVIDADES        DATA\n",
       "0  Lançamento do Edital na página eletrônica da F...  29/01/2018\n",
       "1  Disponibilização do formulário no sistema FAPE...  01/02/2018\n",
       "2                   Limite para impugnação do Edital  01/02/2018"
      ]
     },
     "execution_count": 72,
     "metadata": {},
     "output_type": "execute_result"
    }
   ],
   "source": [
    "df[0].head()"
   ]
  },
  {
   "cell_type": "code",
   "execution_count": 71,
   "metadata": {},
   "outputs": [
    {
     "data": {
      "text/html": [
       "<div>\n",
       "<style scoped>\n",
       "    .dataframe tbody tr th:only-of-type {\n",
       "        vertical-align: middle;\n",
       "    }\n",
       "\n",
       "    .dataframe tbody tr th {\n",
       "        vertical-align: top;\n",
       "    }\n",
       "\n",
       "    .dataframe thead th {\n",
       "        text-align: right;\n",
       "    }\n",
       "</style>\n",
       "<table border=\"1\" class=\"dataframe\">\n",
       "  <thead>\n",
       "    <tr style=\"text-align: right;\">\n",
       "      <th></th>\n",
       "      <th>Unnamed: 0</th>\n",
       "      <th>Unnamed: 1</th>\n",
       "      <th>RESULTADO FINAL A</th>\n",
       "    </tr>\n",
       "  </thead>\n",
       "  <tbody>\n",
       "    <tr>\n",
       "      <th>0</th>\n",
       "      <td>PERÍODO DO EVENTO</td>\n",
       "      <td>INSCRIÇÃO</td>\n",
       "      <td>NaN</td>\n",
       "    </tr>\n",
       "    <tr>\n",
       "      <th>1</th>\n",
       "      <td>NaN</td>\n",
       "      <td>NaN</td>\n",
       "      <td>PARTIR DE</td>\n",
       "    </tr>\n",
       "    <tr>\n",
       "      <th>2</th>\n",
       "      <td>1 a 30 de abril de 2018</td>\n",
       "      <td>NaN</td>\n",
       "      <td>NaN</td>\n",
       "    </tr>\n",
       "    <tr>\n",
       "      <th>3</th>\n",
       "      <td>e</td>\n",
       "      <td>Até 5 de março de 2018</td>\n",
       "      <td>19 de março de 2018</td>\n",
       "    </tr>\n",
       "    <tr>\n",
       "      <th>4</th>\n",
       "      <td>1 a 31 de maio de 2018</td>\n",
       "      <td>NaN</td>\n",
       "      <td>NaN</td>\n",
       "    </tr>\n",
       "  </tbody>\n",
       "</table>\n",
       "</div>"
      ],
      "text/plain": [
       "                Unnamed: 0              Unnamed: 1    RESULTADO FINAL A\n",
       "0        PERÍODO DO EVENTO               INSCRIÇÃO                  NaN\n",
       "1                      NaN                     NaN            PARTIR DE\n",
       "2  1 a 30 de abril de 2018                     NaN                  NaN\n",
       "3                        e  Até 5 de março de 2018  19 de março de 2018\n",
       "4   1 a 31 de maio de 2018                     NaN                  NaN"
      ]
     },
     "execution_count": 71,
     "metadata": {},
     "output_type": "execute_result"
    }
   ],
   "source": [
    "df[1].head()"
   ]
  },
  {
   "cell_type": "code",
   "execution_count": 73,
   "metadata": {},
   "outputs": [
    {
     "data": {
      "text/html": [
       "<div>\n",
       "<style scoped>\n",
       "    .dataframe tbody tr th:only-of-type {\n",
       "        vertical-align: middle;\n",
       "    }\n",
       "\n",
       "    .dataframe tbody tr th {\n",
       "        vertical-align: top;\n",
       "    }\n",
       "\n",
       "    .dataframe thead th {\n",
       "        text-align: right;\n",
       "    }\n",
       "</style>\n",
       "<table border=\"1\" class=\"dataframe\">\n",
       "  <thead>\n",
       "    <tr style=\"text-align: right;\">\n",
       "      <th></th>\n",
       "      <th>CRITÉRIOS</th>\n",
       "      <th>NOTA</th>\n",
       "    </tr>\n",
       "  </thead>\n",
       "  <tbody>\n",
       "    <tr>\n",
       "      <th>0</th>\n",
       "      <td>I – Mérito e relevância científica do trabalho...</td>\n",
       "      <td>1 a 5</td>\n",
       "    </tr>\n",
       "    <tr>\n",
       "      <th>1</th>\n",
       "      <td>II – Produção científica;</td>\n",
       "      <td>1 a 5</td>\n",
       "    </tr>\n",
       "    <tr>\n",
       "      <th>2</th>\n",
       "      <td>III - Impacto dos resultados do trabalho a ser...</td>\n",
       "      <td>NaN</td>\n",
       "    </tr>\n",
       "    <tr>\n",
       "      <th>3</th>\n",
       "      <td>NaN</td>\n",
       "      <td>1 a 5</td>\n",
       "    </tr>\n",
       "    <tr>\n",
       "      <th>4</th>\n",
       "      <td>desenvolvimento científico, tecnológico e de i...</td>\n",
       "      <td>NaN</td>\n",
       "    </tr>\n",
       "  </tbody>\n",
       "</table>\n",
       "</div>"
      ],
      "text/plain": [
       "                                           CRITÉRIOS   NOTA\n",
       "0  I – Mérito e relevância científica do trabalho...  1 a 5\n",
       "1                          II – Produção científica;  1 a 5\n",
       "2  III - Impacto dos resultados do trabalho a ser...    NaN\n",
       "3                                                NaN  1 a 5\n",
       "4  desenvolvimento científico, tecnológico e de i...    NaN"
      ]
     },
     "execution_count": 73,
     "metadata": {},
     "output_type": "execute_result"
    }
   ],
   "source": [
    "df[2].head()"
   ]
  },
  {
   "cell_type": "code",
   "execution_count": 50,
   "metadata": {},
   "outputs": [
    {
     "ename": "ValueError",
     "evalue": "all the input array dimensions for the concatenation axis must match exactly, but along dimension 1, the array at index 0 has size 2 and the array at index 1 has size 3",
     "output_type": "error",
     "traceback": [
      "\u001b[1;31m---------------------------------------------------------------------------\u001b[0m",
      "\u001b[1;31mValueError\u001b[0m                                Traceback (most recent call last)",
      "\u001b[1;32mc:\\Users\\angel\\Documents\\Trabalhos\\BCC\\7oPeriodo\\optMCA_Jesmmer\\1o_trabalho_avaliativo\\projeto\\notebook\\notebook01_220521.ipynb Cell 14'\u001b[0m in \u001b[0;36m<cell line: 1>\u001b[1;34m()\u001b[0m\n\u001b[1;32m----> <a href='vscode-notebook-cell:/c%3A/Users/angel/Documents/Trabalhos/BCC/7oPeriodo/optMCA_Jesmmer/1o_trabalho_avaliativo/projeto/notebook/notebook01_220521.ipynb#ch0000016?line=0'>1</a>\u001b[0m df \u001b[39m=\u001b[39m pd\u001b[39m.\u001b[39mDataFrame(np\u001b[39m.\u001b[39;49mconcatenate(data))\n",
      "File \u001b[1;32m<__array_function__ internals>:180\u001b[0m, in \u001b[0;36mconcatenate\u001b[1;34m(*args, **kwargs)\u001b[0m\n",
      "\u001b[1;31mValueError\u001b[0m: all the input array dimensions for the concatenation axis must match exactly, but along dimension 1, the array at index 0 has size 2 and the array at index 1 has size 3"
     ]
    }
   ],
   "source": [
    "df = pd.DataFrame(np.concatenate(data))"
   ]
  },
  {
   "cell_type": "code",
   "execution_count": 40,
   "metadata": {},
   "outputs": [
    {
     "data": {
      "text/html": [
       "<div>\n",
       "<style scoped>\n",
       "    .dataframe tbody tr th:only-of-type {\n",
       "        vertical-align: middle;\n",
       "    }\n",
       "\n",
       "    .dataframe tbody tr th {\n",
       "        vertical-align: top;\n",
       "    }\n",
       "\n",
       "    .dataframe thead th {\n",
       "        text-align: right;\n",
       "    }\n",
       "</style>\n",
       "<table border=\"1\" class=\"dataframe\">\n",
       "  <thead>\n",
       "    <tr style=\"text-align: right;\">\n",
       "      <th></th>\n",
       "      <th>0</th>\n",
       "    </tr>\n",
       "  </thead>\n",
       "  <tbody>\n",
       "    <tr>\n",
       "      <th>0</th>\n",
       "      <td>ATIV...</td>\n",
       "    </tr>\n",
       "    <tr>\n",
       "      <th>1</th>\n",
       "      <td>Unnamed: 0               ...</td>\n",
       "    </tr>\n",
       "  </tbody>\n",
       "</table>\n",
       "</div>"
      ],
      "text/plain": [
       "                                                   0\n",
       "0                                            ATIV...\n",
       "1                       Unnamed: 0               ..."
      ]
     },
     "execution_count": 40,
     "metadata": {},
     "output_type": "execute_result"
    }
   ],
   "source": [
    "df.head()"
   ]
  }
 ],
 "metadata": {
  "interpreter": {
   "hash": "369f2c481f4da34e4445cda3fffd2e751bd1c4d706f27375911949ba6bb62e1c"
  },
  "kernelspec": {
   "display_name": "Python 3.10.2 64-bit",
   "language": "python",
   "name": "python3"
  },
  "language_info": {
   "codemirror_mode": {
    "name": "ipython",
    "version": 3
   },
   "file_extension": ".py",
   "mimetype": "text/x-python",
   "name": "python",
   "nbconvert_exporter": "python",
   "pygments_lexer": "ipython3",
   "version": "3.10.2"
  },
  "orig_nbformat": 4
 },
 "nbformat": 4,
 "nbformat_minor": 2
}
