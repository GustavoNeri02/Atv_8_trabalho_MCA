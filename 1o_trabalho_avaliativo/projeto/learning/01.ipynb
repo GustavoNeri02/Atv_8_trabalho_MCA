{
 "cells": [
  {
   "cell_type": "markdown",
   "metadata": {},
   "source": [
    "# PyPDF2 - aprendendo - prática 01"
   ]
  },
  {
   "cell_type": "markdown",
   "metadata": {},
   "source": [
    "## importações"
   ]
  },
  {
   "cell_type": "code",
   "execution_count": 1,
   "metadata": {},
   "outputs": [
    {
     "name": "stdout",
     "output_type": "stream",
     "text": [
      "PyPDF2 -version --> 1.27.12\n"
     ]
    }
   ],
   "source": [
    "import PyPDF2\n",
    "print(f'PyPDF2 -version --> {PyPDF2.__version__}')\n",
    "\n",
    "from PyPDF2 import PdfFileReader as pfile\n",
    "\n"
   ]
  },
  {
   "cell_type": "markdown",
   "metadata": {},
   "source": [
    "## rotina do programa\n",
    "> Usage (prática iniciante) - teste de funcionamento (from *https://pypi.org/project/PyPDF2/*) "
   ]
  },
  {
   "cell_type": "code",
   "execution_count": 2,
   "metadata": {},
   "outputs": [],
   "source": [
    "reader = pfile('.\\TesteMe.pdf')"
   ]
  },
  {
   "cell_type": "code",
   "execution_count": 3,
   "metadata": {},
   "outputs": [
    {
     "name": "stdout",
     "output_type": "stream",
     "text": [
      "2\n"
     ]
    },
    {
     "name": "stderr",
     "output_type": "stream",
     "text": [
      "PdfReadWarning: Superfluous whitespace found in object header b'1' b'0' [_reader.py:888]\n",
      "PdfReadWarning: Superfluous whitespace found in object header b'2' b'0' [_reader.py:888]\n",
      "PdfReadWarning: Superfluous whitespace found in object header b'3' b'0' [_reader.py:888]\n",
      "PdfReadWarning: Superfluous whitespace found in object header b'55' b'0' [_reader.py:888]\n"
     ]
    }
   ],
   "source": [
    "n_pages = reader.numPages\n",
    "print(n_pages)"
   ]
  },
  {
   "cell_type": "code",
   "execution_count": 4,
   "metadata": {},
   "outputs": [
    {
     "name": "stdout",
     "output_type": "stream",
     "text": [
      "{'/Contents': [IndirectObject(53, 0)], '/CropBox': [0, 0, 595.32001, 841.92004], '/MediaBox': [0, 0, 595.32001, 841.92004], '/Parent': IndirectObject(2, 0), '/Resources': IndirectObject(54, 0), '/Rotate': 0, '/Type': '/Page'}\n"
     ]
    }
   ],
   "source": [
    "page_0 = reader.pages[0]\n",
    "print(page_0)"
   ]
  },
  {
   "cell_type": "code",
   "execution_count": 5,
   "metadata": {},
   "outputs": [
    {
     "name": "stdout",
     "output_type": "stream",
     "text": [
      "\n",
      "\n",
      "\n",
      "\n",
      "\n",
      "\n",
      "\n",
      "\n",
      "\n",
      "\n",
      "\n",
      "\n",
      "\n",
      "\n",
      "\n",
      "\n",
      "\n",
      "\n",
      "\n",
      "\n",
      "\n",
      "\n",
      "\n",
      "\n",
      "\n",
      "\n",
      "\n",
      "\n",
      "\n",
      "\n",
      "\n",
      "\n",
      "\n",
      "\n",
      "\n",
      "\n",
      "\n",
      "\n",
      "\n",
      "\n",
      "\n",
      "\n",
      "\n",
      "\n",
      "\n",
      "\n",
      "\n",
      "\n",
      "\n",
      "\n",
      "\n",
      "\n",
      "\n",
      "\n",
      "\n",
      "\n",
      "\n",
      "\n"
     ]
    },
    {
     "name": "stderr",
     "output_type": "stream",
     "text": [
      "PdfReadWarning: Superfluous whitespace found in object header b'53' b'0' [_reader.py:888]\n"
     ]
    }
   ],
   "source": [
    "text = page_0.extractText()\n",
    "print(text)"
   ]
  },
  {
   "cell_type": "code",
   "execution_count": 25,
   "metadata": {},
   "outputs": [],
   "source": [
    "with open('text_00.txt', 'w') as file:\n",
    "    file.write(text)\n",
    "    file.close()"
   ]
  },
  {
   "cell_type": "code",
   "execution_count": 28,
   "metadata": {},
   "outputs": [],
   "source": [
    "rfile = pfile('.\\doc_teste_00.pdf')\n",
    "print(rfile.numPages)\n",
    "\n",
    "# for all pages, extract text and write in the file_to\n",
    "with open('text_01.txt', 'w') as file_to:\n",
    "    \n",
    "    for page in reader.pages:\n",
    "        text = page.extractText()\n",
    "\n",
    "        file_to.write(text)"
   ]
  }
 ],
 "metadata": {
  "interpreter": {
   "hash": "369f2c481f4da34e4445cda3fffd2e751bd1c4d706f27375911949ba6bb62e1c"
  },
  "kernelspec": {
   "display_name": "Python 3.10.2 64-bit",
   "language": "python",
   "name": "python3"
  },
  "language_info": {
   "codemirror_mode": {
    "name": "ipython",
    "version": 3
   },
   "file_extension": ".py",
   "mimetype": "text/x-python",
   "name": "python",
   "nbconvert_exporter": "python",
   "pygments_lexer": "ipython3",
   "version": "3.10.2"
  },
  "orig_nbformat": 4
 },
 "nbformat": 4,
 "nbformat_minor": 2
}
