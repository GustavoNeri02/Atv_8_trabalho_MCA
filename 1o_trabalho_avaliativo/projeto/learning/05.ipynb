{
 "cells": [
  {
   "cell_type": "code",
   "execution_count": 6,
   "metadata": {},
   "outputs": [],
   "source": [
    "import pandas as pd\n",
    "import numpy as np"
   ]
  },
  {
   "cell_type": "code",
   "execution_count": 7,
   "metadata": {},
   "outputs": [],
   "source": [
    "import sys\n",
    "sys.path.insert(0, '../src/scrapping/')"
   ]
  },
  {
   "cell_type": "code",
   "execution_count": 8,
   "metadata": {},
   "outputs": [],
   "source": [
    "import Constants as const\n",
    "from info_graph import InfoGraph"
   ]
  },
  {
   "cell_type": "code",
   "execution_count": 9,
   "metadata": {},
   "outputs": [
    {
     "name": "stdout",
     "output_type": "stream",
     "text": [
      "<class 'pandas.core.frame.DataFrame'>\n",
      "RangeIndex: 280 entries, 0 to 279\n",
      "Data columns (total 4 columns):\n",
      " #   Column                                                                                                                                                                             Non-Null Count  Dtype \n",
      "---  ------                                                                                                                                                                             --------------  ----- \n",
      " 0   page_title                                                                                                                                                                         280 non-null    object\n",
      " 1   file_name                                                                                                                                                                          280 non-null    object\n",
      " 2   page_url                                                                                                                                                                           280 non-null    object\n",
      " 3   file_url                                                                                                                                                                           280 non-null    object\n",
      "dtypes: object(4)\n",
      "memory usage: 8.9+ KB\n",
      "None\n"
     ]
    }
   ],
   "source": [
    "scrapping_data = pd.read_csv(const.SCRAPPING_PAGE_PATH + const.SCRAPPING_PAGE_NAME)\n",
    "print(scrapping_data.info())"
   ]
  },
  {
   "cell_type": "code",
   "execution_count": 10,
   "metadata": {},
   "outputs": [
    {
     "name": "stdout",
     "output_type": "stream",
     "text": [
      "<class 'pandas.core.frame.DataFrame'>\n",
      "RangeIndex: 34 entries, 0 to 33\n",
      "Data columns (total 4 columns):\n",
      " #   Column      Non-Null Count  Dtype \n",
      "---  ------      --------------  ----- \n",
      " 0   page_title  34 non-null     object\n",
      " 1   file_name   34 non-null     object\n",
      " 2   page_url    34 non-null     object\n",
      " 3   file_url    34 non-null     object\n",
      "dtypes: object(4)\n",
      "memory usage: 1.2+ KB\n",
      "None\n"
     ]
    }
   ],
   "source": [
    "filtered_data = pd.read_csv(const.FILTERING_PAGE_PATH + const.FILTERING_PAGE_NAME)\n",
    "print(filtered_data.info())"
   ]
  },
  {
   "cell_type": "code",
   "execution_count": 11,
   "metadata": {},
   "outputs": [
    {
     "data": {
      "text/plain": [
       "info_graph.InfoGraph"
      ]
     },
     "execution_count": 11,
     "metadata": {},
     "output_type": "execute_result"
    },
    {
     "data": {
      "text/plain": [
       "<Figure size 432x288 with 0 Axes>"
      ]
     },
     "metadata": {},
     "output_type": "display_data"
    }
   ],
   "source": [
    "ig = InfoGraph()\n",
    "type(ig)"
   ]
  },
  {
   "cell_type": "code",
   "execution_count": 12,
   "metadata": {},
   "outputs": [],
   "source": [
    "ig.set_title('serching articles - scrapping x filtering')"
   ]
  },
  {
   "cell_type": "code",
   "execution_count": 13,
   "metadata": {},
   "outputs": [
    {
     "data": {
      "text/plain": [
       "[280, 34]"
      ]
     },
     "execution_count": 13,
     "metadata": {},
     "output_type": "execute_result"
    }
   ],
   "source": [
    "x_values = [scrapping_data.index.size, filtered_data.index.size]\n",
    "x_values"
   ]
  },
  {
   "cell_type": "code",
   "execution_count": 14,
   "metadata": {},
   "outputs": [],
   "source": [
    "y_values = ['scrapping', 'filtering']\n",
    "explode = [0.02, 0.02]"
   ]
  },
  {
   "cell_type": "code",
   "execution_count": 44,
   "metadata": {},
   "outputs": [
    {
     "data": {
      "image/png": "[encoded data removed]",
      "text/plain": [
       "<Figure size 432x288 with 1 Axes>"
      ]
     },
     "metadata": {},
     "output_type": "display_data"
    }
   ],
   "source": [
    "ig.pie(x_values, y_values, explode)"
   ]
  },
  {
   "cell_type": "markdown",
   "metadata": {},
   "source": [
    "# Análise e formação dos dados\n",
    "gráficos \n",
    "    -> lançamento\n",
    "    -> submissão / inscrições / inscrição\n",
    "    -> resultado\n",
    "    -> <última data>"
   ]
  },
  {
   "cell_type": "code",
   "execution_count": 16,
   "metadata": {},
   "outputs": [],
   "source": [
    "import re"
   ]
  },
  {
   "cell_type": "code",
   "execution_count": 17,
   "metadata": {},
   "outputs": [
    {
     "name": "stdout",
     "output_type": "stream",
     "text": [
      "<class 'pandas.core.frame.DataFrame'>\n",
      "RangeIndex: 34 entries, 0 to 33\n",
      "Data columns (total 4 columns):\n",
      " #   Column      Non-Null Count  Dtype \n",
      "---  ------      --------------  ----- \n",
      " 0   page_title  34 non-null     object\n",
      " 1   file_name   34 non-null     object\n",
      " 2   page_url    34 non-null     object\n",
      " 3   file_url    34 non-null     object\n",
      "dtypes: object(4)\n",
      "memory usage: 1.2+ KB\n",
      "None\n"
     ]
    }
   ],
   "source": [
    "filtered_data = pd.read_csv(const.FILTERING_PAGE_PATH + const.FILTERING_PAGE_NAME)\n",
    "print(filtered_data.info())"
   ]
  },
  {
   "cell_type": "code",
   "execution_count": 18,
   "metadata": {},
   "outputs": [],
   "source": [
    "cronograms = list()\n",
    "relative = const.EXTRACTING_DATA_CRONOGRAM_PATH\n",
    "for iteration in range(0, filtered_data.index.size):\n",
    "    try:\n",
    "        path = relative + '_' + str(iteration)\n",
    "        cronogram = pd.read_excel(path + '/' + const.EXTRACTING_DATA_CRONOGRAM_NAME)\n",
    "        \n",
    "        cronograms.append(cronogram)\n",
    "    except: \n",
    "        cronograms.append(None)"
   ]
  },
  {
   "cell_type": "code",
   "execution_count": 19,
   "metadata": {},
   "outputs": [
    {
     "name": "stdout",
     "output_type": "stream",
     "text": [
      "<class 'pandas.core.frame.DataFrame'>\n",
      "RangeIndex: 11 entries, 0 to 10\n",
      "Data columns (total 2 columns):\n",
      " #   Column     Non-Null Count  Dtype \n",
      "---  ------     --------------  ----- \n",
      " 0   atividade  11 non-null     object\n",
      " 1   data       11 non-null     object\n",
      "dtypes: object(2)\n",
      "memory usage: 304.0+ bytes\n"
     ]
    }
   ],
   "source": [
    "cronograms[0].info()"
   ]
  },
  {
   "cell_type": "code",
   "execution_count": 20,
   "metadata": {},
   "outputs": [],
   "source": [
    "search_date_for = [['lançamento'], ['submissão', 'inscrições', 'inscrição'], ['resultado']]\n",
    "search_lancamento = search_date_for[0]\n",
    "search_submissao = search_date_for[1]\n",
    "search_resultado = search_date_for[2]"
   ]
  },
  {
   "cell_type": "code",
   "execution_count": 21,
   "metadata": {},
   "outputs": [],
   "source": [
    "def regex(pattern: str, entry: str):\n",
    "        return re.findall(pattern, entry)"
   ]
  },
  {
   "cell_type": "code",
   "execution_count": 22,
   "metadata": {},
   "outputs": [],
   "source": [
    "date_pattern_first = r'([0-9]{2}\\/[0-9]{2}\\/[0-9]{4}).*$' \n",
    "date_pattern_last = r'^.*([0-9]{2}\\/[0-9]{2}\\/[0-9]{4})' "
   ]
  },
  {
   "cell_type": "code",
   "execution_count": 23,
   "metadata": {},
   "outputs": [],
   "source": [
    "#match = regex(date_pattern_first, '12312312/12/121212312asdasd13/13/1313')\n",
    "#match # OK\n",
    "#regex = lambda pattern, entry: re.findall(pattern, entry)\n",
    "#match = regex(date_pattern_last, '15/06/2022 à 22/07/2022')\n",
    "#len(match) > 0 # OK\n",
    "#match"
   ]
  },
  {
   "cell_type": "code",
   "execution_count": 24,
   "metadata": {},
   "outputs": [
    {
     "data": {
      "text/plain": [
       "34"
      ]
     },
     "execution_count": 24,
     "metadata": {},
     "output_type": "execute_result"
    }
   ],
   "source": [
    "size_i = len(cronograms)\n",
    "size_i"
   ]
  },
  {
   "cell_type": "code",
   "execution_count": 25,
   "metadata": {},
   "outputs": [],
   "source": [
    "cronograms_dates = list()\n",
    "\n",
    "size_i = len(cronograms)\n",
    "for i in range(0, size_i):\n",
    "    lancamento_date = np.nan\n",
    "    submissao_date = np.nan\n",
    "    resultado_date = np.nan\n",
    "    last_date = np.nan\n",
    "    \n",
    "    cronogram = pd.DataFrame(cronograms[i])\n",
    "    if cronogram is None : \n",
    "        cronograms_dates.append([lancamento_date, submissao_date, resultado_date, last_date])\n",
    "        continue\n",
    "    \n",
    "    #print(cronogram.head())\n",
    "    #print(cronogram.info())\n",
    "    \n",
    "    size_j = cronogram.index.size\n",
    "    for j in range(0, size_j):\n",
    "        row = str(cronogram.loc[j, 'atividade']).lower()\n",
    "        \n",
    "        if lancamento_date is np.nan and list(map(row.__contains__, search_lancamento)).__contains__(True):\n",
    "            # print(row)\n",
    "        \n",
    "            # pegar as datas\n",
    "            date_data = str(cronogram.loc[j, 'data']).lower()\n",
    "            match = regex(date_pattern_first, date_data)\n",
    "            if len(match) > 0 : lancamento_date = match[0]\n",
    "            \n",
    "            # print(lancamento_date)\n",
    "            \n",
    "        if submissao_date is np.nan and list(map(row.__contains__, search_submissao)).__contains__(True):\n",
    "            # print(row)\n",
    "            \n",
    "            # pegar as datas\n",
    "            date_data = str(cronogram.loc[j, 'data']).lower()\n",
    "            match = regex(date_pattern_last, date_data)\n",
    "            if len(match) > 0: submissao_date = match[0]\n",
    "            \n",
    "            # print(submissao_date)\n",
    "            \n",
    "        if resultado_date is np.nan and list(map(row.__contains__, search_resultado)).__contains__(True):\n",
    "            # print(row)\n",
    "            \n",
    "            # pegar as datas\n",
    "            date_data = str(cronogram.loc[j, 'data']).lower()\n",
    "            match = regex(date_pattern_first, date_data)\n",
    "            if len(match) > 0 : resultado_date = match[0]\n",
    "            \n",
    "            # print(resultado_date)\n",
    "            \n",
    "        if j == (size_j - 1):\n",
    "            # print(row)\n",
    "            \n",
    "            # pegar as datas\n",
    "            date_data = str(cronogram.loc[j, 'data']).lower()\n",
    "            match = regex(date_pattern_last, date_data)\n",
    "            if len(match) > 0 : last_date = match[0]\n",
    "            \n",
    "            # print(last_date)\n",
    "    \n",
    "    cronograms_dates.append([str(lancamento_date), str(submissao_date), str(resultado_date), str(last_date)])\n"
   ]
  },
  {
   "cell_type": "code",
   "execution_count": 26,
   "metadata": {},
   "outputs": [
    {
     "data": {
      "text/plain": [
       "[['15/06/2022', '22/07/2022', '01/08/2022', '19/09/2022'],\n",
       " ['nan', 'nan', 'nan', 'nan'],\n",
       " ['24/02/2022', '17/04/2022', '25/04/2022', '29/07/2022'],\n",
       " ['15/09/2021', '25/10/2021', '03/11/2021', '23/11/2021'],\n",
       " ['nan', 'nan', 'nan', 'nan'],\n",
       " ['03/09/2021', '04/10/2021', '08/10/2021', '10/01/2022'],\n",
       " ['14/06/2021', '28/07/2021', '11/08/2021', '21/09/2021'],\n",
       " ['06/04/2021', '13/05/2021', '19/05/2021', 'nan'],\n",
       " ['nan', 'nan', 'nan', 'nan'],\n",
       " ['20/08/2020', '27/09/2020', 'nan', '27/09/2020'],\n",
       " ['nan', 'nan', 'nan', 'nan'],\n",
       " ['nan', 'nan', 'nan', 'nan'],\n",
       " ['nan', 'nan', 'nan', 'nan'],\n",
       " ['nan', 'nan', 'nan', 'nan'],\n",
       " ['17/12/2019', '15/05/2020', '17/12/2019', '15/05/2020'],\n",
       " ['nan', 'nan', 'nan', 'nan'],\n",
       " ['16/10/2019', '23/10/2019', '26/10/2019', '28/10/2019'],\n",
       " ['nan', 'nan', 'nan', 'nan'],\n",
       " ['nan', 'nan', 'nan', 'nan'],\n",
       " ['nan', 'nan', 'nan', 'nan'],\n",
       " ['16/05/2018', '25/06/2018', '09/07/2018', '27/09/2018'],\n",
       " ['16/05/2018', '02/07/2018', '16/07/2018', '25/09/2018'],\n",
       " ['16/05/2018', '02/07/2018', '16/07/2018', '25/09/2018'],\n",
       " ['16/05/2018', '13/07/2018', '16/05/2018', '31/08/2018'],\n",
       " ['nan', 'nan', 'nan', 'nan'],\n",
       " ['16/05/2018', '02/07/2018', '31/07/2018', '15/10/2018'],\n",
       " ['nan', 'nan', 'nan', 'nan'],\n",
       " ['nan', 'nan', 'nan', 'nan'],\n",
       " ['nan', 'nan', 'nan', 'nan'],\n",
       " ['13/11/2017', '31/05/2018', '31/07/2018', '31/07/2018'],\n",
       " ['10/10/2017', '20/11/2017', '10/10/2017', '05/01/2018'],\n",
       " ['nan', 'nan', 'nan', 'nan'],\n",
       " ['nan', 'nan', 'nan', 'nan'],\n",
       " ['26/06/2017', '15/12/2017', '28/02/2018', '28/02/2018']]"
      ]
     },
     "execution_count": 26,
     "metadata": {},
     "output_type": "execute_result"
    }
   ],
   "source": [
    "cronograms_dates # ok"
   ]
  },
  {
   "cell_type": "code",
   "execution_count": 27,
   "metadata": {},
   "outputs": [
    {
     "name": "stdout",
     "output_type": "stream",
     "text": [
      "<class 'pandas.core.frame.DataFrame'>\n",
      "RangeIndex: 34 entries, 0 to 33\n",
      "Data columns (total 4 columns):\n",
      " #   Column      Non-Null Count  Dtype \n",
      "---  ------      --------------  ----- \n",
      " 0   lancamento  34 non-null     object\n",
      " 1   submissao   34 non-null     object\n",
      " 2   resultado   34 non-null     object\n",
      " 3   last        34 non-null     object\n",
      "dtypes: object(4)\n",
      "memory usage: 1.2+ KB\n"
     ]
    }
   ],
   "source": [
    "columns = ['lancamento', 'submissao', 'resultado', 'last']\n",
    "\n",
    "df_cronograms_dates = pd.DataFrame(data=cronograms_dates, columns=columns)\n",
    "df_cronograms_dates.info()"
   ]
  },
  {
   "cell_type": "code",
   "execution_count": 34,
   "metadata": {},
   "outputs": [],
   "source": [
    "df_cronograms_dates = df_cronograms_dates.astype(np.datetime64)"
   ]
  },
  {
   "cell_type": "code",
   "execution_count": 35,
   "metadata": {},
   "outputs": [
    {
     "name": "stdout",
     "output_type": "stream",
     "text": [
      "<class 'pandas.core.frame.DataFrame'>\n",
      "RangeIndex: 34 entries, 0 to 33\n",
      "Data columns (total 4 columns):\n",
      " #   Column      Non-Null Count  Dtype         \n",
      "---  ------      --------------  -----         \n",
      " 0   lancamento  17 non-null     datetime64[ns]\n",
      " 1   submissao   17 non-null     datetime64[ns]\n",
      " 2   resultado   16 non-null     datetime64[ns]\n",
      " 3   last        16 non-null     datetime64[ns]\n",
      "dtypes: datetime64[ns](4)\n",
      "memory usage: 1.2 KB\n"
     ]
    }
   ],
   "source": [
    "df_cronograms_dates.info()"
   ]
  },
  {
   "cell_type": "code",
   "execution_count": 36,
   "metadata": {},
   "outputs": [
    {
     "data": {
      "text/html": [
       "<div>\n",
       "<style scoped>\n",
       "    .dataframe tbody tr th:only-of-type {\n",
       "        vertical-align: middle;\n",
       "    }\n",
       "\n",
       "    .dataframe tbody tr th {\n",
       "        vertical-align: top;\n",
       "    }\n",
       "\n",
       "    .dataframe thead th {\n",
       "        text-align: right;\n",
       "    }\n",
       "</style>\n",
       "<table border=\"1\" class=\"dataframe\">\n",
       "  <thead>\n",
       "    <tr style=\"text-align: right;\">\n",
       "      <th></th>\n",
       "      <th>lancamento</th>\n",
       "      <th>submissao</th>\n",
       "      <th>resultado</th>\n",
       "      <th>last</th>\n",
       "    </tr>\n",
       "  </thead>\n",
       "  <tbody>\n",
       "    <tr>\n",
       "      <th>0</th>\n",
       "      <td>2022-06-15</td>\n",
       "      <td>2022-07-22</td>\n",
       "      <td>2022-01-08</td>\n",
       "      <td>2022-09-19</td>\n",
       "    </tr>\n",
       "    <tr>\n",
       "      <th>1</th>\n",
       "      <td>NaT</td>\n",
       "      <td>NaT</td>\n",
       "      <td>NaT</td>\n",
       "      <td>NaT</td>\n",
       "    </tr>\n",
       "    <tr>\n",
       "      <th>2</th>\n",
       "      <td>2022-02-24</td>\n",
       "      <td>2022-04-17</td>\n",
       "      <td>2022-04-25</td>\n",
       "      <td>2022-07-29</td>\n",
       "    </tr>\n",
       "    <tr>\n",
       "      <th>3</th>\n",
       "      <td>2021-09-15</td>\n",
       "      <td>2021-10-25</td>\n",
       "      <td>2021-03-11</td>\n",
       "      <td>2021-11-23</td>\n",
       "    </tr>\n",
       "    <tr>\n",
       "      <th>4</th>\n",
       "      <td>NaT</td>\n",
       "      <td>NaT</td>\n",
       "      <td>NaT</td>\n",
       "      <td>NaT</td>\n",
       "    </tr>\n",
       "  </tbody>\n",
       "</table>\n",
       "</div>"
      ],
      "text/plain": [
       "  lancamento  submissao  resultado       last\n",
       "0 2022-06-15 2022-07-22 2022-01-08 2022-09-19\n",
       "1        NaT        NaT        NaT        NaT\n",
       "2 2022-02-24 2022-04-17 2022-04-25 2022-07-29\n",
       "3 2021-09-15 2021-10-25 2021-03-11 2021-11-23\n",
       "4        NaT        NaT        NaT        NaT"
      ]
     },
     "execution_count": 36,
     "metadata": {},
     "output_type": "execute_result"
    }
   ],
   "source": [
    "df_cronograms_dates.head()"
   ]
  },
  {
   "cell_type": "code",
   "execution_count": 31,
   "metadata": {},
   "outputs": [],
   "source": [
    "#values = [False, False, False]\n",
    "#if values.__contains__(True):\n",
    "#    print(True)\n",
    "#else :\n",
    "#    print(False)"
   ]
  },
  {
   "cell_type": "code",
   "execution_count": 37,
   "metadata": {},
   "outputs": [
    {
     "data": {
      "text/plain": [
       "<Figure size 432x288 with 0 Axes>"
      ]
     },
     "metadata": {},
     "output_type": "display_data"
    }
   ],
   "source": [
    "#ig = InfoGraph()"
   ]
  },
  {
   "cell_type": "code",
   "execution_count": 54,
   "metadata": {},
   "outputs": [],
   "source": [
    "igs = list()"
   ]
  },
  {
   "cell_type": "code",
   "execution_count": 55,
   "metadata": {},
   "outputs": [
    {
     "data": {
      "image/png": "[encoded data removed]",
      "text/plain": [
       "<Figure size 432x288 with 1 Axes>"
      ]
     },
     "metadata": {
      "needs_background": "light"
     },
     "output_type": "display_data"
    }
   ],
   "source": [
    "ig = InfoGraph()\n",
    "ig.set_title('count dates - publicacao dates')\n",
    "ig.hist(df_cronograms_dates.loc[:, 'lancamento'])"
   ]
  },
  {
   "cell_type": "code",
   "execution_count": 56,
   "metadata": {},
   "outputs": [],
   "source": [
    "igs.append(ig)"
   ]
  },
  {
   "cell_type": "code",
   "execution_count": 57,
   "metadata": {},
   "outputs": [
    {
     "data": {
      "image/png": "[encoded data removed]",
      "text/plain": [
       "<Figure size 432x288 with 1 Axes>"
      ]
     },
     "metadata": {
      "needs_background": "light"
     },
     "output_type": "display_data"
    }
   ],
   "source": [
    "ig = InfoGraph()\n",
    "ig.set_title('count dates - submissao dates')\n",
    "ig.hist(df_cronograms_dates.loc[:,'submissao'])"
   ]
  },
  {
   "cell_type": "code",
   "execution_count": 58,
   "metadata": {},
   "outputs": [],
   "source": [
    "igs.append(ig)"
   ]
  },
  {
   "cell_type": "code",
   "execution_count": 61,
   "metadata": {},
   "outputs": [
    {
     "data": {
      "image/png": "[encoded data removed]",
      "text/plain": [
       "<Figure size 432x288 with 1 Axes>"
      ]
     },
     "metadata": {
      "needs_background": "light"
     },
     "output_type": "display_data"
    }
   ],
   "source": [
    "ig = InfoGraph()\n",
    "ig.set_title('count dates - resultado dates')\n",
    "ig.hist(df_cronograms_dates.loc[:, 'resultado'])"
   ]
  },
  {
   "cell_type": "code",
   "execution_count": 62,
   "metadata": {},
   "outputs": [],
   "source": [
    "igs.append(ig)"
   ]
  },
  {
   "cell_type": "code",
   "execution_count": 63,
   "metadata": {},
   "outputs": [
    {
     "data": {
      "image/png": "[encoded data removed]",
      "text/plain": [
       "<Figure size 432x288 with 1 Axes>"
      ]
     },
     "metadata": {
      "needs_background": "light"
     },
     "output_type": "display_data"
    }
   ],
   "source": [
    "ig = InfoGraph()\n",
    "ig.set_title('count dates - last dates')\n",
    "ig.hist(df_cronograms_dates.loc[:,'last'])"
   ]
  },
  {
   "cell_type": "code",
   "execution_count": 64,
   "metadata": {},
   "outputs": [],
   "source": [
    "igs.append(ig)"
   ]
  },
  {
   "cell_type": "code",
   "execution_count": 75,
   "metadata": {},
   "outputs": [],
   "source": [
    "def show_from_fig(fig:InfoGraph)->...:\n",
    "    fig_show(fig.show)\n",
    "\n",
    "def fig_show(show:...):\n",
    "    show()"
   ]
  },
  {
   "cell_type": "code",
   "execution_count": 79,
   "metadata": {},
   "outputs": [
    {
     "data": {
      "image/png": "[encoded data removed]",
      "text/plain": [
       "<Figure size 432x288 with 1 Axes>"
      ]
     },
     "metadata": {
      "needs_background": "light"
     },
     "output_type": "display_data"
    }
   ],
   "source": [
    "show_from_fig(igs[3])"
   ]
  }
 ],
 "metadata": {
  "kernelspec": {
   "display_name": "Python 3.10.2 64-bit",
   "language": "python",
   "name": "python3"
  },
  "language_info": {
   "codemirror_mode": {
    "name": "ipython",
    "version": 3
   },
   "file_extension": ".py",
   "mimetype": "text/x-python",
   "name": "python",
   "nbconvert_exporter": "python",
   "pygments_lexer": "ipython3",
   "version": "3.9.7"
  },
  "orig_nbformat": 4,
  "vscode": {
   "interpreter": {
    "hash": "369f2c481f4da34e4445cda3fffd2e751bd1c4d706f27375911949ba6bb62e1c"
   }
  }
 },
 "nbformat": 4,
 "nbformat_minor": 2
}
