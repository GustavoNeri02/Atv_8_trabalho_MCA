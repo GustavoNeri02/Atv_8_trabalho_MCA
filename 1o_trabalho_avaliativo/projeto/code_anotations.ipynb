{
 "cells": [
  {
   "cell_type": "code",
   "execution_count": 1,
   "metadata": {},
   "outputs": [
    {
     "data": {
      "text/plain": [
       "'http://www.fapeg.go.gov.br/categoria/editais/'"
      ]
     },
     "execution_count": 1,
     "metadata": {},
     "output_type": "execute_result"
    }
   ],
   "source": [
    "import Constants as const\n",
    "\n",
    "const.URL_HOME"
   ]
  },
  {
   "cell_type": "code",
   "execution_count": 3,
   "metadata": {},
   "outputs": [
    {
     "name": "stdout",
     "output_type": "stream",
     "text": [
      "./msedgedriver.exe\n"
     ]
    }
   ],
   "source": [
    "from scrapping.ws_bot import WsBot\n",
    "\n",
    "import Constants as const\n",
    "\n",
    "bot = WsBot()\n",
    "bot.getThere(const.URL_HOME) "
   ]
  },
  {
   "cell_type": "code",
   "execution_count": 9,
   "metadata": {},
   "outputs": [
    {
     "data": {
      "text/plain": [
       "<EnumBy.xpath: 'xpath'>"
      ]
     },
     "execution_count": 9,
     "metadata": {},
     "output_type": "execute_result"
    }
   ],
   "source": [
    "from scrapping.enum_by import EnumBy as by\n",
    "\n",
    "by.xpath.value"
   ]
  },
  {
   "cell_type": "code",
   "execution_count": 11,
   "metadata": {},
   "outputs": [
    {
     "name": "stdout",
     "output_type": "stream",
     "text": [
      "4\n"
     ]
    }
   ],
   "source": [
    "coroutine = (lambda x: print(x + 1))\n",
    "\n",
    "coroutine(3)"
   ]
  },
  {
   "cell_type": "code",
   "execution_count": 18,
   "metadata": {},
   "outputs": [
    {
     "data": {
      "text/plain": [
       "function"
      ]
     },
     "execution_count": 18,
     "metadata": {},
     "output_type": "execute_result"
    }
   ],
   "source": [
    "coroutine.__class__"
   ]
  },
  {
   "cell_type": "code",
   "execution_count": 25,
   "metadata": {},
   "outputs": [
    {
     "data": {
      "text/plain": [
       "\"<class 'function'>\""
      ]
     },
     "execution_count": 25,
     "metadata": {},
     "output_type": "execute_result"
    }
   ],
   "source": [
    "str(coroutine.__class__)"
   ]
  },
  {
   "cell_type": "code",
   "execution_count": 3,
   "metadata": {},
   "outputs": [
    {
     "data": {
      "text/plain": [
       "3"
      ]
     },
     "execution_count": 3,
     "metadata": {},
     "output_type": "execute_result"
    }
   ],
   "source": [
    "a = [1, 2, 3]\n",
    "len(a)"
   ]
  },
  {
   "cell_type": "code",
   "execution_count": 24,
   "metadata": {},
   "outputs": [
    {
     "name": "stdout",
     "output_type": "stream",
     "text": [
      "./msedgedriver.exe\n"
     ]
    }
   ],
   "source": [
    "from scrapping.ws_bot import WsBot\n",
    "import Constants as const\n",
    "\n",
    "bot = WsBot()\n",
    "\n",
    "bot.get_there(const.URL_HOME)"
   ]
  },
  {
   "cell_type": "code",
   "execution_count": 25,
   "metadata": {},
   "outputs": [],
   "source": [
    "from selenium.webdriver.common.by import By"
   ]
  },
  {
   "cell_type": "code",
   "execution_count": 26,
   "metadata": {},
   "outputs": [],
   "source": [
    "# acessar cada pagina de editais da pagina me contexto\n",
    "# obtem lista de páginas e acessa uma por uma\n",
    "articles = bot.find_elements(By.XPATH, '//div[@id=\"content\"]/article')"
   ]
  },
  {
   "cell_type": "code",
   "execution_count": 27,
   "metadata": {},
   "outputs": [
    {
     "data": {
      "text/plain": [
       "10"
      ]
     },
     "execution_count": 27,
     "metadata": {},
     "output_type": "execute_result"
    }
   ],
   "source": [
    "len(articles)"
   ]
  },
  {
   "cell_type": "code",
   "execution_count": 62,
   "metadata": {},
   "outputs": [],
   "source": [
    "page, link, page_str = list(), list(), list()"
   ]
  },
  {
   "cell_type": "code",
   "execution_count": 86,
   "metadata": {},
   "outputs": [],
   "source": [
    "page_context = 1"
   ]
  },
  {
   "cell_type": "code",
   "execution_count": 88,
   "metadata": {},
   "outputs": [],
   "source": [
    "page.insert(page_context, articles[page_context].find_element(By.XPATH, './/a'))\n",
    "link.insert(page_context, page[page_context].get_attribute('href'))\n",
    "page_str.insert(page_context, page[page_context].text)"
   ]
  },
  {
   "cell_type": "code",
   "execution_count": 49,
   "metadata": {},
   "outputs": [],
   "source": [
    "page.insert(1, articles[1].find_element(By.XPATH, './/a'))\n",
    "link.insert(1, page[1].get_attribute('href'))"
   ]
  },
  {
   "cell_type": "code",
   "execution_count": 76,
   "metadata": {},
   "outputs": [],
   "source": [
    "page.insert(2, articles[2].find_element(By.XPATH, './/a'))\n",
    "link.insert(2, page[2].get_attribute('href'))"
   ]
  },
  {
   "cell_type": "code",
   "execution_count": 89,
   "metadata": {},
   "outputs": [],
   "source": [
    "bot.execute_script(f\"window.open('{link[page_context]}', 'new tab')\")\n",
    "bot.switch_to.window(bot.window_handles[1])"
   ]
  },
  {
   "cell_type": "markdown",
   "metadata": {},
   "source": [
    "preciso gerencia a referencia do programa do edital, o link do arquivo encontrado e o texto de apresentação desse link"
   ]
  },
  {
   "cell_type": "code",
   "execution_count": 128,
   "metadata": {},
   "outputs": [],
   "source": [
    "import pandas as pd\n",
    "\n",
    "df = pd.DataFrame(columns=['page_context','link_presentation','link_value'])"
   ]
  },
  {
   "cell_type": "code",
   "execution_count": 129,
   "metadata": {},
   "outputs": [],
   "source": [
    "\n",
    "def up_file(page_context, link_presentation, link_value):\n",
    "        if df is None:\n",
    "                df = pd.DataFrame(columns=['page_context','link_presentation','link_value'])\n",
    "        \n",
    "        df.loc[len(df.index)] = [page_context, link_presentation, link_value]\n",
    "        #df = pd.concat([df,])        "
   ]
  },
  {
   "cell_type": "code",
   "execution_count": 98,
   "metadata": {},
   "outputs": [
    {
     "data": {
      "text/plain": [
       "'CHAMADA CONFAP & Wallonie Bruxelles – Bélgica 2022'"
      ]
     },
     "execution_count": 98,
     "metadata": {},
     "output_type": "execute_result"
    }
   ],
   "source": [
    "page_str[page_context]"
   ]
  },
  {
   "cell_type": "code",
   "execution_count": 130,
   "metadata": {},
   "outputs": [
    {
     "name": "stdout",
     "output_type": "stream",
     "text": [
      "4\n",
      "                                        page_context  \\\n",
      "0  CHAMADA CONFAP & Wallonie Bruxelles – Bélgica ...   \n",
      "1  CHAMADA CONFAP & Wallonie Bruxelles – Bélgica ...   \n",
      "\n",
      "                                   link_presentation  \\\n",
      "0                                  Corrigendum no. 1   \n",
      "1  CHAMADA CONFAP & Wallonie Bruxelles – Bélgica ...   \n",
      "\n",
      "                                          link_value  \n",
      "0  http://www.fapeg.go.gov.br/wp-content/uploads/...  \n",
      "1  https://confap.org.br/news/wp-content/uploads/...  \n"
     ]
    }
   ],
   "source": [
    "files = bot.find_elements(By.XPATH, '//div[@class=\"pf-content\"]/p')\n",
    "print(len(files))\n",
    "\n",
    "for file_element in files:\n",
    "    try:\n",
    "        link_element = file_element.find_element(By.XPATH, './/a')\n",
    "    except:\n",
    "        print('not a file')\n",
    "        continue\n",
    "    \n",
    "    link_value = link_element.get_attribute('href')\n",
    "    if  str(link_value.split('.')[-1]).lower() == 'pdf':\n",
    "        #$print(link_element.text)\n",
    "        #print(link_value)\n",
    "        #print(page_str[0])\n",
    "        \n",
    "        save_file(\n",
    "            page_context=page_str[page_context], \n",
    "            link_presentation=link_element.text, \n",
    "            link_value=link_value\n",
    "            )\n",
    "        \n",
    "#print(link_data)\n",
    "print(df.head())\n",
    "        "
   ]
  },
  {
   "cell_type": "code",
   "execution_count": 62,
   "metadata": {},
   "outputs": [
    {
     "data": {
      "text/plain": [
       "'CHAMADA CONFAP & Wallonie Bruxelles – Bélgica 2022'"
      ]
     },
     "execution_count": 62,
     "metadata": {},
     "output_type": "execute_result"
    }
   ],
   "source": [
    "files[3].text"
   ]
  },
  {
   "cell_type": "code",
   "execution_count": 84,
   "metadata": {},
   "outputs": [],
   "source": [
    "bot.close()\n",
    "bot.switch_to.window(bot.window_handles[0])"
   ]
  },
  {
   "cell_type": "code",
   "execution_count": null,
   "metadata": {},
   "outputs": [],
   "source": []
  },
  {
   "cell_type": "code",
   "execution_count": null,
   "metadata": {},
   "outputs": [],
   "source": [
    "for article in articles:\n",
    "    # obtem referencia de link para a pagina do edital\n",
    "    page = article.find_element(By.XPATH, './/a')\n",
    "    link = page.get_attribute('href')\n",
    "\n",
    "print(page.text)\n",
    "\n",
    "# acessa em uma nova janela\n",
    "self.execute_script(f\"window.open('{link}', 'new tab')\")\n",
    "self.switch_to.window(self.window_handles[1])\n",
    "\n",
    "# localiza e gerencia os arquivos encontrados\n",
    "files = self.find_elements(By.XPATH, '//div[@class=\"pf-content\"]/p')\n",
    "\n",
    "list_files = list()\n",
    "for file in files:\n",
    "    link = file.find_element(By.XPATH, './/a')\n",
    "    \n",
    "    list_files.append(link.text)\n",
    "print(f'files : {len(list_files)}')\n",
    "    \n",
    "\n",
    "# retorna a janela primaria\n",
    "self.close()\n",
    "self.switch_to.window(self.window_handles[0])"
   ]
  },
  {
   "cell_type": "code",
   "execution_count": 170,
   "metadata": {},
   "outputs": [
    {
     "data": {
      "text/plain": [
       "'17'"
      ]
     },
     "execution_count": 170,
     "metadata": {},
     "output_type": "execute_result"
    }
   ],
   "source": [
    "pagination_context = bot.find_element(By.XPATH, '//div[@class=\"pagination\"]')\n",
    "\n",
    "page_context = pagination_context.find_elements(By.XPATH, './/span')\n",
    "\n",
    "page_context[-1].text"
   ]
  },
  {
   "cell_type": "code",
   "execution_count": 169,
   "metadata": {},
   "outputs": [
    {
     "name": "stdout",
     "output_type": "stream",
     "text": [
      "not a number\n",
      "17\n",
      "going to 17\n",
      "in 17\n"
     ]
    }
   ],
   "source": [
    "pagination_links = pagination_context.find_elements(By.XPATH, './/a')\n",
    "\n",
    "got_ref = False\n",
    "for ref_page in pagination_links:\n",
    "    try:\n",
    "        value = int(ref_page.text)\n",
    "    except:\n",
    "        print('not a number')\n",
    "        continue\n",
    "    \n",
    "    if value == (int(page_context.text) + 1):\n",
    "        got_ref = True\n",
    "        \n",
    "        print(ref_page.text)\n",
    "        \n",
    "        break\n",
    "    \n",
    "if got_ref:\n",
    "    print(f'going to {value}')\n",
    "    ref_page.click()\n",
    "else:\n",
    "    print('no more list pages')"
   ]
  },
  {
   "cell_type": "code",
   "execution_count": 1,
   "metadata": {},
   "outputs": [],
   "source": [
    "import tabula"
   ]
  },
  {
   "cell_type": "code",
   "execution_count": 10,
   "metadata": {},
   "outputs": [
    {
     "name": "stderr",
     "output_type": "stream",
     "text": [
      "'pages' argument isn't specified.Will extract only from page 1 by default.\n"
     ]
    }
   ],
   "source": [
    "df = tabula.read_pdf('./keeping/Edital-27-2022-AGES-Residencia-Jacobina.pdf')"
   ]
  },
  {
   "cell_type": "code",
   "execution_count": 11,
   "metadata": {},
   "outputs": [
    {
     "data": {
      "text/plain": [
       "[]"
      ]
     },
     "execution_count": 11,
     "metadata": {},
     "output_type": "execute_result"
    }
   ],
   "source": [
    "df"
   ]
  },
  {
   "cell_type": "code",
   "execution_count": 21,
   "metadata": {},
   "outputs": [
    {
     "ename": "UnicodeDecodeError",
     "evalue": "'utf-8' codec can't decode byte 0xca in position 100: invalid continuation byte",
     "output_type": "error",
     "traceback": [
      "\u001b[1;31m---------------------------------------------------------------------------\u001b[0m",
      "\u001b[1;31mUnicodeDecodeError\u001b[0m                        Traceback (most recent call last)",
      "\u001b[1;32mc:\\Users\\angel\\Documents\\Trabalhos\\BCC\\7oPeriodo\\optMCA_Jesmmer\\1o_trabalho_avaliativo\\projeto\\code_anotations.ipynb Cell 32'\u001b[0m in \u001b[0;36m<cell line: 1>\u001b[1;34m()\u001b[0m\n\u001b[1;32m----> <a href='vscode-notebook-cell:/c%3A/Users/angel/Documents/Trabalhos/BCC/7oPeriodo/optMCA_Jesmmer/1o_trabalho_avaliativo/projeto/code_anotations.ipynb#ch0000030?line=0'>1</a>\u001b[0m tabula\u001b[39m.\u001b[39;49mconvert_into(\u001b[39m'\u001b[39;49m\u001b[39m./keeping/Regulamento_Chamada___NE_Goias_2021_01set21___final.pdf\u001b[39;49m\u001b[39m'\u001b[39;49m, \u001b[39m'\u001b[39;49m\u001b[39medital02_data.csv\u001b[39;49m\u001b[39m'\u001b[39;49m, output_format\u001b[39m=\u001b[39;49m\u001b[39m'\u001b[39;49m\u001b[39mcsv\u001b[39;49m\u001b[39m'\u001b[39;49m, pages\u001b[39m=\u001b[39;49m\u001b[39m'\u001b[39;49m\u001b[39mall\u001b[39;49m\u001b[39m'\u001b[39;49m)\n",
      "File \u001b[1;32mc:\\Python310\\lib\\site-packages\\tabula\\io.py:562\u001b[0m, in \u001b[0;36mconvert_into\u001b[1;34m(input_path, output_path, output_format, java_options, **kwargs)\u001b[0m\n\u001b[0;32m    <a href='file:///c%3A/Python310/lib/site-packages/tabula/io.py?line=556'>557</a>\u001b[0m     \u001b[39mraise\u001b[39;00m \u001b[39mValueError\u001b[39;00m(\n\u001b[0;32m    <a href='file:///c%3A/Python310/lib/site-packages/tabula/io.py?line=557'>558</a>\u001b[0m         \u001b[39m\"\u001b[39m\u001b[39m{}\u001b[39;00m\u001b[39m is empty. Check the file, or download it manually.\u001b[39m\u001b[39m\"\u001b[39m\u001b[39m.\u001b[39mformat(path)\n\u001b[0;32m    <a href='file:///c%3A/Python310/lib/site-packages/tabula/io.py?line=558'>559</a>\u001b[0m     )\n\u001b[0;32m    <a href='file:///c%3A/Python310/lib/site-packages/tabula/io.py?line=560'>561</a>\u001b[0m \u001b[39mtry\u001b[39;00m:\n\u001b[1;32m--> <a href='file:///c%3A/Python310/lib/site-packages/tabula/io.py?line=561'>562</a>\u001b[0m     _run(java_options, kwargs, path)\n\u001b[0;32m    <a href='file:///c%3A/Python310/lib/site-packages/tabula/io.py?line=562'>563</a>\u001b[0m \u001b[39mfinally\u001b[39;00m:\n\u001b[0;32m    <a href='file:///c%3A/Python310/lib/site-packages/tabula/io.py?line=563'>564</a>\u001b[0m     \u001b[39mif\u001b[39;00m temporary:\n",
      "File \u001b[1;32mc:\\Python310\\lib\\site-packages\\tabula\\io.py:88\u001b[0m, in \u001b[0;36m_run\u001b[1;34m(java_options, options, path, encoding)\u001b[0m\n\u001b[0;32m     <a href='file:///c%3A/Python310/lib/site-packages/tabula/io.py?line=79'>80</a>\u001b[0m     result \u001b[39m=\u001b[39m subprocess\u001b[39m.\u001b[39mrun(\n\u001b[0;32m     <a href='file:///c%3A/Python310/lib/site-packages/tabula/io.py?line=80'>81</a>\u001b[0m         args,\n\u001b[0;32m     <a href='file:///c%3A/Python310/lib/site-packages/tabula/io.py?line=81'>82</a>\u001b[0m         stdout\u001b[39m=\u001b[39msubprocess\u001b[39m.\u001b[39mPIPE,\n\u001b[1;32m   (...)\u001b[0m\n\u001b[0;32m     <a href='file:///c%3A/Python310/lib/site-packages/tabula/io.py?line=84'>85</a>\u001b[0m         check\u001b[39m=\u001b[39m\u001b[39mTrue\u001b[39;00m,\n\u001b[0;32m     <a href='file:///c%3A/Python310/lib/site-packages/tabula/io.py?line=85'>86</a>\u001b[0m     )\n\u001b[0;32m     <a href='file:///c%3A/Python310/lib/site-packages/tabula/io.py?line=86'>87</a>\u001b[0m     \u001b[39mif\u001b[39;00m result\u001b[39m.\u001b[39mstderr:\n\u001b[1;32m---> <a href='file:///c%3A/Python310/lib/site-packages/tabula/io.py?line=87'>88</a>\u001b[0m         logger\u001b[39m.\u001b[39mwarning(\u001b[39m\"\u001b[39m\u001b[39mGot stderr: \u001b[39m\u001b[39m{}\u001b[39;00m\u001b[39m\"\u001b[39m\u001b[39m.\u001b[39mformat(result\u001b[39m.\u001b[39;49mstderr\u001b[39m.\u001b[39;49mdecode(encoding)))\n\u001b[0;32m     <a href='file:///c%3A/Python310/lib/site-packages/tabula/io.py?line=88'>89</a>\u001b[0m     \u001b[39mreturn\u001b[39;00m result\u001b[39m.\u001b[39mstdout\n\u001b[0;32m     <a href='file:///c%3A/Python310/lib/site-packages/tabula/io.py?line=89'>90</a>\u001b[0m \u001b[39mexcept\u001b[39;00m \u001b[39mFileNotFoundError\u001b[39;00m:\n",
      "\u001b[1;31mUnicodeDecodeError\u001b[0m: 'utf-8' codec can't decode byte 0xca in position 100: invalid continuation byte"
     ]
    }
   ],
   "source": [
    "tabula.convert_into('./keeping/Regulamento_Chamada___NE_Goias_2021_01set21___final.pdf', 'edital02_data.csv', output_format='csv', pages='all')"
   ]
  },
  {
   "cell_type": "code",
   "execution_count": 22,
   "metadata": {},
   "outputs": [],
   "source": [
    "import PyPDF2\n",
    "from PyPDF2 import PdfFileReader"
   ]
  },
  {
   "cell_type": "code",
   "execution_count": 23,
   "metadata": {},
   "outputs": [
    {
     "data": {
      "text/plain": [
       "19"
      ]
     },
     "execution_count": 23,
     "metadata": {},
     "output_type": "execute_result"
    }
   ],
   "source": [
    "reader = PdfFileReader(\"./keeping/Regulamento_Chamada___NE_Goias_2021_01set21___final.pdf\")\n",
    "number_of_pages = reader.numPages\n",
    "number_of_pages"
   ]
  },
  {
   "cell_type": "code",
   "execution_count": null,
   "metadata": {},
   "outputs": [],
   "source": [
    "page = reader.pages[0]\n",
    "print(page.extractText())"
   ]
  },
  {
   "cell_type": "code",
   "execution_count": 18,
   "metadata": {},
   "outputs": [],
   "source": [
    "file = open(\"./keeping/Regulamento_Chamada___NE_Goias_2021_01set21___final.pdf\", 'rb')"
   ]
  },
  {
   "cell_type": "code",
   "execution_count": null,
   "metadata": {},
   "outputs": [],
   "source": [
    "file.readlines()"
   ]
  },
  {
   "cell_type": "code",
   "execution_count": 28,
   "metadata": {},
   "outputs": [
    {
     "data": {
      "text/plain": [
       "19"
      ]
     },
     "execution_count": 28,
     "metadata": {},
     "output_type": "execute_result"
    }
   ],
   "source": [
    "reader = PdfFileReader(file)\n",
    "number_of_pages = reader.numPages\n",
    "number_of_pages"
   ]
  },
  {
   "cell_type": "code",
   "execution_count": null,
   "metadata": {},
   "outputs": [],
   "source": [
    "page = reader.pages[0]\n",
    "text = page.extractText()\n",
    "\n"
   ]
  },
  {
   "cell_type": "code",
   "execution_count": 1,
   "metadata": {},
   "outputs": [],
   "source": [
    "import textract"
   ]
  },
  {
   "cell_type": "code",
   "execution_count": 2,
   "metadata": {},
   "outputs": [],
   "source": [
    "filePath = r'./keeping/Edital-27-2022-AGES-Residencia-Jacobina.pdf'"
   ]
  },
  {
   "cell_type": "code",
   "execution_count": 3,
   "metadata": {},
   "outputs": [
    {
     "ename": "ShellError",
     "evalue": "The command `pdftoppm ./keeping/Edital-27-2022-AGES-Residencia-Jacobina.pdf C:\\Users\\angel\\AppData\\Local\\Temp\\tmp911d1t1i\\conv` failed with exit code 127\n------------- stdout -------------\n------------- stderr -------------\n",
     "output_type": "error",
     "traceback": [
      "\u001b[1;31m---------------------------------------------------------------------------\u001b[0m",
      "\u001b[1;31mFileNotFoundError\u001b[0m                         Traceback (most recent call last)",
      "File \u001b[1;32m~\\AppData\\Roaming\\Python\\Python310\\site-packages\\textract\\parsers\\utils.py:87\u001b[0m, in \u001b[0;36mShellParser.run\u001b[1;34m(self, args)\u001b[0m\n\u001b[0;32m     <a href='file:///c%3A/Users/angel/AppData/Roaming/Python/Python310/site-packages/textract/parsers/utils.py?line=85'>86</a>\u001b[0m \u001b[39mtry\u001b[39;00m:\n\u001b[1;32m---> <a href='file:///c%3A/Users/angel/AppData/Roaming/Python/Python310/site-packages/textract/parsers/utils.py?line=86'>87</a>\u001b[0m     pipe \u001b[39m=\u001b[39m subprocess\u001b[39m.\u001b[39;49mPopen(\n\u001b[0;32m     <a href='file:///c%3A/Users/angel/AppData/Roaming/Python/Python310/site-packages/textract/parsers/utils.py?line=87'>88</a>\u001b[0m         args,\n\u001b[0;32m     <a href='file:///c%3A/Users/angel/AppData/Roaming/Python/Python310/site-packages/textract/parsers/utils.py?line=88'>89</a>\u001b[0m         stdout\u001b[39m=\u001b[39;49msubprocess\u001b[39m.\u001b[39;49mPIPE, stderr\u001b[39m=\u001b[39;49msubprocess\u001b[39m.\u001b[39;49mPIPE,\n\u001b[0;32m     <a href='file:///c%3A/Users/angel/AppData/Roaming/Python/Python310/site-packages/textract/parsers/utils.py?line=89'>90</a>\u001b[0m     )\n\u001b[0;32m     <a href='file:///c%3A/Users/angel/AppData/Roaming/Python/Python310/site-packages/textract/parsers/utils.py?line=90'>91</a>\u001b[0m \u001b[39mexcept\u001b[39;00m \u001b[39mOSError\u001b[39;00m \u001b[39mas\u001b[39;00m e:\n",
      "File \u001b[1;32mc:\\Python310\\lib\\subprocess.py:966\u001b[0m, in \u001b[0;36mPopen.__init__\u001b[1;34m(self, args, bufsize, executable, stdin, stdout, stderr, preexec_fn, close_fds, shell, cwd, env, universal_newlines, startupinfo, creationflags, restore_signals, start_new_session, pass_fds, user, group, extra_groups, encoding, errors, text, umask, pipesize)\u001b[0m\n\u001b[0;32m    <a href='file:///c%3A/Python310/lib/subprocess.py?line=962'>963</a>\u001b[0m             \u001b[39mself\u001b[39m\u001b[39m.\u001b[39mstderr \u001b[39m=\u001b[39m io\u001b[39m.\u001b[39mTextIOWrapper(\u001b[39mself\u001b[39m\u001b[39m.\u001b[39mstderr,\n\u001b[0;32m    <a href='file:///c%3A/Python310/lib/subprocess.py?line=963'>964</a>\u001b[0m                     encoding\u001b[39m=\u001b[39mencoding, errors\u001b[39m=\u001b[39merrors)\n\u001b[1;32m--> <a href='file:///c%3A/Python310/lib/subprocess.py?line=965'>966</a>\u001b[0m     \u001b[39mself\u001b[39;49m\u001b[39m.\u001b[39;49m_execute_child(args, executable, preexec_fn, close_fds,\n\u001b[0;32m    <a href='file:///c%3A/Python310/lib/subprocess.py?line=966'>967</a>\u001b[0m                         pass_fds, cwd, env,\n\u001b[0;32m    <a href='file:///c%3A/Python310/lib/subprocess.py?line=967'>968</a>\u001b[0m                         startupinfo, creationflags, shell,\n\u001b[0;32m    <a href='file:///c%3A/Python310/lib/subprocess.py?line=968'>969</a>\u001b[0m                         p2cread, p2cwrite,\n\u001b[0;32m    <a href='file:///c%3A/Python310/lib/subprocess.py?line=969'>970</a>\u001b[0m                         c2pread, c2pwrite,\n\u001b[0;32m    <a href='file:///c%3A/Python310/lib/subprocess.py?line=970'>971</a>\u001b[0m                         errread, errwrite,\n\u001b[0;32m    <a href='file:///c%3A/Python310/lib/subprocess.py?line=971'>972</a>\u001b[0m                         restore_signals,\n\u001b[0;32m    <a href='file:///c%3A/Python310/lib/subprocess.py?line=972'>973</a>\u001b[0m                         gid, gids, uid, umask,\n\u001b[0;32m    <a href='file:///c%3A/Python310/lib/subprocess.py?line=973'>974</a>\u001b[0m                         start_new_session)\n\u001b[0;32m    <a href='file:///c%3A/Python310/lib/subprocess.py?line=974'>975</a>\u001b[0m \u001b[39mexcept\u001b[39;00m:\n\u001b[0;32m    <a href='file:///c%3A/Python310/lib/subprocess.py?line=975'>976</a>\u001b[0m     \u001b[39m# Cleanup if the child failed starting.\u001b[39;00m\n",
      "File \u001b[1;32mc:\\Python310\\lib\\subprocess.py:1435\u001b[0m, in \u001b[0;36mPopen._execute_child\u001b[1;34m(self, args, executable, preexec_fn, close_fds, pass_fds, cwd, env, startupinfo, creationflags, shell, p2cread, p2cwrite, c2pread, c2pwrite, errread, errwrite, unused_restore_signals, unused_gid, unused_gids, unused_uid, unused_umask, unused_start_new_session)\u001b[0m\n\u001b[0;32m   <a href='file:///c%3A/Python310/lib/subprocess.py?line=1433'>1434</a>\u001b[0m \u001b[39mtry\u001b[39;00m:\n\u001b[1;32m-> <a href='file:///c%3A/Python310/lib/subprocess.py?line=1434'>1435</a>\u001b[0m     hp, ht, pid, tid \u001b[39m=\u001b[39m _winapi\u001b[39m.\u001b[39;49mCreateProcess(executable, args,\n\u001b[0;32m   <a href='file:///c%3A/Python310/lib/subprocess.py?line=1435'>1436</a>\u001b[0m                              \u001b[39m# no special security\u001b[39;49;00m\n\u001b[0;32m   <a href='file:///c%3A/Python310/lib/subprocess.py?line=1436'>1437</a>\u001b[0m                              \u001b[39mNone\u001b[39;49;00m, \u001b[39mNone\u001b[39;49;00m,\n\u001b[0;32m   <a href='file:///c%3A/Python310/lib/subprocess.py?line=1437'>1438</a>\u001b[0m                              \u001b[39mint\u001b[39;49m(\u001b[39mnot\u001b[39;49;00m close_fds),\n\u001b[0;32m   <a href='file:///c%3A/Python310/lib/subprocess.py?line=1438'>1439</a>\u001b[0m                              creationflags,\n\u001b[0;32m   <a href='file:///c%3A/Python310/lib/subprocess.py?line=1439'>1440</a>\u001b[0m                              env,\n\u001b[0;32m   <a href='file:///c%3A/Python310/lib/subprocess.py?line=1440'>1441</a>\u001b[0m                              cwd,\n\u001b[0;32m   <a href='file:///c%3A/Python310/lib/subprocess.py?line=1441'>1442</a>\u001b[0m                              startupinfo)\n\u001b[0;32m   <a href='file:///c%3A/Python310/lib/subprocess.py?line=1442'>1443</a>\u001b[0m \u001b[39mfinally\u001b[39;00m:\n\u001b[0;32m   <a href='file:///c%3A/Python310/lib/subprocess.py?line=1443'>1444</a>\u001b[0m     \u001b[39m# Child is launched. Close the parent's copy of those pipe\u001b[39;00m\n\u001b[0;32m   <a href='file:///c%3A/Python310/lib/subprocess.py?line=1444'>1445</a>\u001b[0m     \u001b[39m# handles that only the child should have open.  You need\u001b[39;00m\n\u001b[1;32m   (...)\u001b[0m\n\u001b[0;32m   <a href='file:///c%3A/Python310/lib/subprocess.py?line=1447'>1448</a>\u001b[0m     \u001b[39m# pipe will not close when the child process exits and the\u001b[39;00m\n\u001b[0;32m   <a href='file:///c%3A/Python310/lib/subprocess.py?line=1448'>1449</a>\u001b[0m     \u001b[39m# ReadFile will hang.\u001b[39;00m\n",
      "\u001b[1;31mFileNotFoundError\u001b[0m: [WinError 2] O sistema não pode encontrar o arquivo especificado",
      "\nDuring handling of the above exception, another exception occurred:\n",
      "\u001b[1;31mShellError\u001b[0m                                Traceback (most recent call last)",
      "\u001b[1;32mc:\\Users\\angel\\Documents\\Trabalhos\\BCC\\7oPeriodo\\optMCA_Jesmmer\\1o_trabalho_avaliativo\\projeto\\code_anotations.ipynb Cell 42'\u001b[0m in \u001b[0;36m<cell line: 1>\u001b[1;34m()\u001b[0m\n\u001b[1;32m----> <a href='vscode-notebook-cell:/c%3A/Users/angel/Documents/Trabalhos/BCC/7oPeriodo/optMCA_Jesmmer/1o_trabalho_avaliativo/projeto/code_anotations.ipynb#ch0000041?line=0'>1</a>\u001b[0m text \u001b[39m=\u001b[39m textract\u001b[39m.\u001b[39;49mprocess(filePath, method\u001b[39m=\u001b[39;49m\u001b[39m'\u001b[39;49m\u001b[39mtesseract\u001b[39;49m\u001b[39m'\u001b[39;49m, encoding\u001b[39m=\u001b[39;49m\u001b[39m'\u001b[39;49m\u001b[39mutf-8\u001b[39;49m\u001b[39m'\u001b[39;49m)\n\u001b[0;32m      <a href='vscode-notebook-cell:/c%3A/Users/angel/Documents/Trabalhos/BCC/7oPeriodo/optMCA_Jesmmer/1o_trabalho_avaliativo/projeto/code_anotations.ipynb#ch0000041?line=1'>2</a>\u001b[0m \u001b[39mprint\u001b[39m(text)\n",
      "File \u001b[1;32m~\\AppData\\Roaming\\Python\\Python310\\site-packages\\textract\\parsers\\__init__.py:79\u001b[0m, in \u001b[0;36mprocess\u001b[1;34m(filename, input_encoding, output_encoding, extension, **kwargs)\u001b[0m\n\u001b[0;32m     <a href='file:///c%3A/Users/angel/AppData/Roaming/Python/Python310/site-packages/textract/parsers/__init__.py?line=75'>76</a>\u001b[0m \u001b[39m# do the extraction\u001b[39;00m\n\u001b[0;32m     <a href='file:///c%3A/Users/angel/AppData/Roaming/Python/Python310/site-packages/textract/parsers/__init__.py?line=77'>78</a>\u001b[0m parser \u001b[39m=\u001b[39m filetype_module\u001b[39m.\u001b[39mParser()\n\u001b[1;32m---> <a href='file:///c%3A/Users/angel/AppData/Roaming/Python/Python310/site-packages/textract/parsers/__init__.py?line=78'>79</a>\u001b[0m \u001b[39mreturn\u001b[39;00m parser\u001b[39m.\u001b[39mprocess(filename, input_encoding, output_encoding, \u001b[39m*\u001b[39m\u001b[39m*\u001b[39mkwargs)\n",
      "File \u001b[1;32m~\\AppData\\Roaming\\Python\\Python310\\site-packages\\textract\\parsers\\utils.py:46\u001b[0m, in \u001b[0;36mBaseParser.process\u001b[1;34m(self, filename, input_encoding, output_encoding, **kwargs)\u001b[0m\n\u001b[0;32m     <a href='file:///c%3A/Users/angel/AppData/Roaming/Python/Python310/site-packages/textract/parsers/utils.py?line=35'>36</a>\u001b[0m \u001b[39m\"\"\"Process ``filename`` and encode byte-string with ``encoding``. This\u001b[39;00m\n\u001b[0;32m     <a href='file:///c%3A/Users/angel/AppData/Roaming/Python/Python310/site-packages/textract/parsers/utils.py?line=36'>37</a>\u001b[0m \u001b[39mmethod is called by :func:`textract.parsers.process` and wraps\u001b[39;00m\n\u001b[0;32m     <a href='file:///c%3A/Users/angel/AppData/Roaming/Python/Python310/site-packages/textract/parsers/utils.py?line=37'>38</a>\u001b[0m \u001b[39mthe :meth:`.BaseParser.extract` method in `a delicious unicode\u001b[39;00m\n\u001b[0;32m     <a href='file:///c%3A/Users/angel/AppData/Roaming/Python/Python310/site-packages/textract/parsers/utils.py?line=38'>39</a>\u001b[0m \u001b[39msandwich <http://nedbatchelder.com/text/unipain.html>`_.\u001b[39;00m\n\u001b[0;32m     <a href='file:///c%3A/Users/angel/AppData/Roaming/Python/Python310/site-packages/textract/parsers/utils.py?line=39'>40</a>\u001b[0m \n\u001b[0;32m     <a href='file:///c%3A/Users/angel/AppData/Roaming/Python/Python310/site-packages/textract/parsers/utils.py?line=40'>41</a>\u001b[0m \u001b[39m\"\"\"\u001b[39;00m\n\u001b[0;32m     <a href='file:///c%3A/Users/angel/AppData/Roaming/Python/Python310/site-packages/textract/parsers/utils.py?line=41'>42</a>\u001b[0m \u001b[39m# make a \"unicode sandwich\" to handle dealing with unknown\u001b[39;00m\n\u001b[0;32m     <a href='file:///c%3A/Users/angel/AppData/Roaming/Python/Python310/site-packages/textract/parsers/utils.py?line=42'>43</a>\u001b[0m \u001b[39m# input byte strings and converting them to a predictable\u001b[39;00m\n\u001b[0;32m     <a href='file:///c%3A/Users/angel/AppData/Roaming/Python/Python310/site-packages/textract/parsers/utils.py?line=43'>44</a>\u001b[0m \u001b[39m# output encoding\u001b[39;00m\n\u001b[0;32m     <a href='file:///c%3A/Users/angel/AppData/Roaming/Python/Python310/site-packages/textract/parsers/utils.py?line=44'>45</a>\u001b[0m \u001b[39m# http://nedbatchelder.com/text/unipain/unipain.html#35\u001b[39;00m\n\u001b[1;32m---> <a href='file:///c%3A/Users/angel/AppData/Roaming/Python/Python310/site-packages/textract/parsers/utils.py?line=45'>46</a>\u001b[0m byte_string \u001b[39m=\u001b[39m \u001b[39mself\u001b[39m\u001b[39m.\u001b[39mextract(filename, \u001b[39m*\u001b[39m\u001b[39m*\u001b[39mkwargs)\n\u001b[0;32m     <a href='file:///c%3A/Users/angel/AppData/Roaming/Python/Python310/site-packages/textract/parsers/utils.py?line=46'>47</a>\u001b[0m unicode_string \u001b[39m=\u001b[39m \u001b[39mself\u001b[39m\u001b[39m.\u001b[39mdecode(byte_string, input_encoding)\n\u001b[0;32m     <a href='file:///c%3A/Users/angel/AppData/Roaming/Python/Python310/site-packages/textract/parsers/utils.py?line=47'>48</a>\u001b[0m \u001b[39mreturn\u001b[39;00m \u001b[39mself\u001b[39m\u001b[39m.\u001b[39mencode(unicode_string, output_encoding)\n",
      "File \u001b[1;32m~\\AppData\\Roaming\\Python\\Python310\\site-packages\\textract\\parsers\\pdf_parser.py:34\u001b[0m, in \u001b[0;36mParser.extract\u001b[1;34m(self, filename, method, **kwargs)\u001b[0m\n\u001b[0;32m     <a href='file:///c%3A/Users/angel/AppData/Roaming/Python/Python310/site-packages/textract/parsers/pdf_parser.py?line=31'>32</a>\u001b[0m     \u001b[39mreturn\u001b[39;00m \u001b[39mself\u001b[39m\u001b[39m.\u001b[39mextract_pdfminer(filename, \u001b[39m*\u001b[39m\u001b[39m*\u001b[39mkwargs)\n\u001b[0;32m     <a href='file:///c%3A/Users/angel/AppData/Roaming/Python/Python310/site-packages/textract/parsers/pdf_parser.py?line=32'>33</a>\u001b[0m \u001b[39melif\u001b[39;00m method \u001b[39m==\u001b[39m \u001b[39m'\u001b[39m\u001b[39mtesseract\u001b[39m\u001b[39m'\u001b[39m:\n\u001b[1;32m---> <a href='file:///c%3A/Users/angel/AppData/Roaming/Python/Python310/site-packages/textract/parsers/pdf_parser.py?line=33'>34</a>\u001b[0m     \u001b[39mreturn\u001b[39;00m \u001b[39mself\u001b[39m\u001b[39m.\u001b[39mextract_tesseract(filename, \u001b[39m*\u001b[39m\u001b[39m*\u001b[39mkwargs)\n\u001b[0;32m     <a href='file:///c%3A/Users/angel/AppData/Roaming/Python/Python310/site-packages/textract/parsers/pdf_parser.py?line=34'>35</a>\u001b[0m \u001b[39melse\u001b[39;00m:\n\u001b[0;32m     <a href='file:///c%3A/Users/angel/AppData/Roaming/Python/Python310/site-packages/textract/parsers/pdf_parser.py?line=35'>36</a>\u001b[0m     \u001b[39mraise\u001b[39;00m UnknownMethod(method)\n",
      "File \u001b[1;32m~\\AppData\\Roaming\\Python\\Python310\\site-packages\\textract\\parsers\\pdf_parser.py:68\u001b[0m, in \u001b[0;36mParser.extract_tesseract\u001b[1;34m(self, filename, **kwargs)\u001b[0m\n\u001b[0;32m     <a href='file:///c%3A/Users/angel/AppData/Roaming/Python/Python310/site-packages/textract/parsers/pdf_parser.py?line=65'>66</a>\u001b[0m contents \u001b[39m=\u001b[39m []\n\u001b[0;32m     <a href='file:///c%3A/Users/angel/AppData/Roaming/Python/Python310/site-packages/textract/parsers/pdf_parser.py?line=66'>67</a>\u001b[0m \u001b[39mtry\u001b[39;00m:\n\u001b[1;32m---> <a href='file:///c%3A/Users/angel/AppData/Roaming/Python/Python310/site-packages/textract/parsers/pdf_parser.py?line=67'>68</a>\u001b[0m     stdout, _ \u001b[39m=\u001b[39m \u001b[39mself\u001b[39;49m\u001b[39m.\u001b[39;49mrun([\u001b[39m'\u001b[39;49m\u001b[39mpdftoppm\u001b[39;49m\u001b[39m'\u001b[39;49m, filename, base])\n\u001b[0;32m     <a href='file:///c%3A/Users/angel/AppData/Roaming/Python/Python310/site-packages/textract/parsers/pdf_parser.py?line=69'>70</a>\u001b[0m     \u001b[39mfor\u001b[39;00m page \u001b[39min\u001b[39;00m \u001b[39msorted\u001b[39m(os\u001b[39m.\u001b[39mlistdir(temp_dir)):\n\u001b[0;32m     <a href='file:///c%3A/Users/angel/AppData/Roaming/Python/Python310/site-packages/textract/parsers/pdf_parser.py?line=70'>71</a>\u001b[0m         page_path \u001b[39m=\u001b[39m os\u001b[39m.\u001b[39mpath\u001b[39m.\u001b[39mjoin(temp_dir, page)\n",
      "File \u001b[1;32m~\\AppData\\Roaming\\Python\\Python310\\site-packages\\textract\\parsers\\utils.py:95\u001b[0m, in \u001b[0;36mShellParser.run\u001b[1;34m(self, args)\u001b[0m\n\u001b[0;32m     <a href='file:///c%3A/Users/angel/AppData/Roaming/Python/Python310/site-packages/textract/parsers/utils.py?line=90'>91</a>\u001b[0m \u001b[39mexcept\u001b[39;00m \u001b[39mOSError\u001b[39;00m \u001b[39mas\u001b[39;00m e:\n\u001b[0;32m     <a href='file:///c%3A/Users/angel/AppData/Roaming/Python/Python310/site-packages/textract/parsers/utils.py?line=91'>92</a>\u001b[0m     \u001b[39mif\u001b[39;00m e\u001b[39m.\u001b[39merrno \u001b[39m==\u001b[39m errno\u001b[39m.\u001b[39mENOENT:\n\u001b[0;32m     <a href='file:///c%3A/Users/angel/AppData/Roaming/Python/Python310/site-packages/textract/parsers/utils.py?line=92'>93</a>\u001b[0m         \u001b[39m# File not found.\u001b[39;00m\n\u001b[0;32m     <a href='file:///c%3A/Users/angel/AppData/Roaming/Python/Python310/site-packages/textract/parsers/utils.py?line=93'>94</a>\u001b[0m         \u001b[39m# This is equivalent to getting exitcode 127 from sh\u001b[39;00m\n\u001b[1;32m---> <a href='file:///c%3A/Users/angel/AppData/Roaming/Python/Python310/site-packages/textract/parsers/utils.py?line=94'>95</a>\u001b[0m         \u001b[39mraise\u001b[39;00m exceptions\u001b[39m.\u001b[39mShellError(\n\u001b[0;32m     <a href='file:///c%3A/Users/angel/AppData/Roaming/Python/Python310/site-packages/textract/parsers/utils.py?line=95'>96</a>\u001b[0m             \u001b[39m'\u001b[39m\u001b[39m \u001b[39m\u001b[39m'\u001b[39m\u001b[39m.\u001b[39mjoin(args), \u001b[39m127\u001b[39m, \u001b[39m'\u001b[39m\u001b[39m'\u001b[39m, \u001b[39m'\u001b[39m\u001b[39m'\u001b[39m,\n\u001b[0;32m     <a href='file:///c%3A/Users/angel/AppData/Roaming/Python/Python310/site-packages/textract/parsers/utils.py?line=96'>97</a>\u001b[0m         )\n\u001b[0;32m     <a href='file:///c%3A/Users/angel/AppData/Roaming/Python/Python310/site-packages/textract/parsers/utils.py?line=97'>98</a>\u001b[0m     \u001b[39melse\u001b[39;00m: \u001b[39mraise\u001b[39;00m \u001b[39m#Reraise the last exception unmodified\u001b[39;00m\n\u001b[0;32m    <a href='file:///c%3A/Users/angel/AppData/Roaming/Python/Python310/site-packages/textract/parsers/utils.py?line=99'>100</a>\u001b[0m \u001b[39m# pipe.wait() ends up hanging on large files. using\u001b[39;00m\n\u001b[0;32m    <a href='file:///c%3A/Users/angel/AppData/Roaming/Python/Python310/site-packages/textract/parsers/utils.py?line=100'>101</a>\u001b[0m \u001b[39m# pipe.communicate appears to avoid this issue\u001b[39;00m\n",
      "\u001b[1;31mShellError\u001b[0m: The command `pdftoppm ./keeping/Edital-27-2022-AGES-Residencia-Jacobina.pdf C:\\Users\\angel\\AppData\\Local\\Temp\\tmp911d1t1i\\conv` failed with exit code 127\n------------- stdout -------------\n------------- stderr -------------\n"
     ]
    }
   ],
   "source": [
    "text = textract.process(filePath, method='tesseract', encoding='utf-8')\n",
    "print(text)"
   ]
  },
  {
   "cell_type": "code",
   "execution_count": 1,
   "metadata": {},
   "outputs": [],
   "source": [
    "import pandas as pd\n",
    "import numpy as np"
   ]
  },
  {
   "cell_type": "code",
   "execution_count": 2,
   "metadata": {},
   "outputs": [],
   "source": [
    "df = pd.read_excel('.\\data.xlsx')"
   ]
  },
  {
   "cell_type": "code",
   "execution_count": 3,
   "metadata": {},
   "outputs": [
    {
     "data": {
      "text/plain": [
       "Index(['Unnamed: 0', 'page_context', 'link_presentation', 'link_value'], dtype='object')"
      ]
     },
     "execution_count": 3,
     "metadata": {},
     "output_type": "execute_result"
    }
   ],
   "source": [
    "df.columns"
   ]
  }
 ],
 "metadata": {
  "interpreter": {
   "hash": "369f2c481f4da34e4445cda3fffd2e751bd1c4d706f27375911949ba6bb62e1c"
  },
  "kernelspec": {
   "display_name": "Python 3.10.2 64-bit",
   "language": "python",
   "name": "python3"
  },
  "language_info": {
   "codemirror_mode": {
    "name": "ipython",
    "version": 3
   },
   "file_extension": ".py",
   "mimetype": "text/x-python",
   "name": "python",
   "nbconvert_exporter": "python",
   "pygments_lexer": "ipython3",
   "version": "3.10.2"
  },
  "orig_nbformat": 4
 },
 "nbformat": 4,
 "nbformat_minor": 2
}
